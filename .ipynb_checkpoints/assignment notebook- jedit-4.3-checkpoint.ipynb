{
 "cells": [
  {
   "cell_type": "markdown",
   "metadata": {},
   "source": [
    "# Training and Validating Bug Prediction Models Assignment \n",
    "\n",
    "\n",
    "Below are the required imports"
   ]
  },
  {
   "cell_type": "code",
   "execution_count": 52,
   "metadata": {},
   "outputs": [],
   "source": [
    "# dataset operations (panda dataframes) \n",
    "import pandas as pd\n",
    "# preprocessing (binarizer)\n",
    "from sklearn import preprocessing\n",
    "#data balancing\n",
    "from imblearn.over_sampling import RandomOverSampler\n",
    "from imblearn.under_sampling import RandomUnderSampler\n",
    "from imblearn.over_sampling import SMOTE\n",
    "# accuracy metrics\n",
    "from sklearn.model_selection import cross_val_predict\n",
    "from sklearn.metrics import f1_score, confusion_matrix\n",
    "from sklearn.metrics import accuracy_score\n",
    "from sklearn.metrics import recall_score\n",
    "from sklearn.metrics import precision_score\n",
    "from sklearn.metrics import roc_auc_score\n",
    "from sklearn.metrics import matthews_corrcoef\n",
    "from matplotlib import pyplot\n",
    "from sklearn.metrics import roc_curve\n",
    "# feature selection \n",
    "from sklearn.datasets import load_digits\n",
    "from mlxtend.feature_selection import ExhaustiveFeatureSelector \n",
    "from sklearn.feature_selection import VarianceThreshold\n",
    "from sklearn.feature_selection import SelectPercentile, chi2\n",
    "# single classifiers\n",
    "from sklearn import tree\n",
    "from sklearn.neighbors import KNeighborsClassifier\n",
    "from sklearn.naive_bayes import GaussianNB\n",
    "# ensemble classifiers\n",
    "from sklearn.linear_model import LogisticRegression\n",
    "from sklearn.ensemble import VotingClassifier\n",
    "from sklearn.ensemble import BaggingClassifier\n",
    "from sklearn.ensemble import RandomForestClassifier"
   ]
  },
  {
   "cell_type": "markdown",
   "metadata": {},
   "source": [
    "# 1 Read in CSV data and preprocess"
   ]
  },
  {
   "cell_type": "markdown",
   "metadata": {},
   "source": [
    "## 1.1 Reading in the csv file data with pandas into a dataframe\n"
   ]
  },
  {
   "cell_type": "code",
   "execution_count": 53,
   "metadata": {},
   "outputs": [],
   "source": [
    "data = pd.read_csv(\"./datasets/jedit-4.3.csv\")"
   ]
  },
  {
   "cell_type": "markdown",
   "metadata": {},
   "source": [
    "## 1.2 Binarize the bug column\n",
    "Binarize the 'bug' column - '0' for **No-bug** and '1' for **bug**."
   ]
  },
  {
   "cell_type": "code",
   "execution_count": 54,
   "metadata": {},
   "outputs": [],
   "source": [
    "binarizer = preprocessing.Binarizer()\n",
    "data['bug'] = binarizer.transform(data['bug'].values.reshape(-1,1))"
   ]
  },
  {
   "cell_type": "markdown",
   "metadata": {},
   "source": [
    "Separate the features (x) from the target column (y). Also, remove non-numeric fields that do not help in prediction. Note: Some data balancers do not accept non-numeric fields.\n",
    "The data description helps us see the counts of each column, the variance and the mean."
   ]
  },
  {
   "cell_type": "code",
   "execution_count": 55,
   "metadata": {},
   "outputs": [
    {
     "name": "stdout",
     "output_type": "stream",
     "text": [
      "preprocessed data overview:\n",
      "              wmc         dit         noc         cbo         rfc  \\\n",
      "count  492.000000  492.000000  492.000000  492.000000  492.000000   \n",
      "mean    12.351626    2.367886    0.447154   14.317073   39.849593   \n",
      "std     24.512359    1.931839    2.432647   25.004054   56.341461   \n",
      "min      0.000000    1.000000    0.000000    0.000000    0.000000   \n",
      "25%      3.000000    1.000000    0.000000    4.000000    9.000000   \n",
      "50%      7.000000    1.500000    0.000000    8.500000   24.500000   \n",
      "75%     13.000000    3.000000    0.000000   15.000000   52.250000   \n",
      "max    351.000000    8.000000   38.000000  346.000000  540.000000   \n",
      "\n",
      "               lcom          ca          ce         npm       lcom3  \\\n",
      "count    492.000000  492.000000  492.000000  492.000000  492.000000   \n",
      "mean     259.906504    8.739837    7.097561    7.851626    1.087181   \n",
      "std     2184.685294   21.846190    9.112257   15.292942    0.651449   \n",
      "min        0.000000    0.000000    0.000000    0.000000    0.000000   \n",
      "25%        1.000000    1.000000    2.000000    2.000000    0.666071   \n",
      "50%        6.000000    3.000000    5.000000    4.000000    0.846543   \n",
      "75%       36.000000    7.000000    9.000000    8.000000    2.000000   \n",
      "max    41713.000000  291.000000  101.000000  218.000000    2.000000   \n",
      "\n",
      "          ...             dam         moa         mfa         cam          ic  \\\n",
      "count     ...      492.000000  492.000000  492.000000  492.000000  492.000000   \n",
      "mean      ...        0.496919    1.079268    0.415344    0.462153    0.595528   \n",
      "std       ...        0.464965    2.057181    0.440211    0.254189    1.001537   \n",
      "min       ...        0.000000    0.000000    0.000000    0.000000    0.000000   \n",
      "25%       ...        0.000000    0.000000    0.000000    0.259815    0.000000   \n",
      "50%       ...        0.500000    0.000000    0.052632    0.425735    0.000000   \n",
      "75%       ...        1.000000    1.000000    0.933333    0.625000    1.000000   \n",
      "max       ...        1.000000   13.000000    1.000000    1.000000    5.000000   \n",
      "\n",
      "              cbm         amc      max_cc      avg_cc         bug  \n",
      "count  492.000000  492.000000  492.000000  492.000000  492.000000  \n",
      "mean     1.497967   28.349159    6.587398    1.827174    0.022358  \n",
      "std      3.234551   34.420934   11.127226    1.811032    0.147995  \n",
      "min      0.000000    0.000000    0.000000    0.000000    0.000000  \n",
      "25%      0.000000    8.333333    1.000000    0.851150    0.000000  \n",
      "50%      0.000000   21.500000    3.000000    1.333300    0.000000  \n",
      "75%      1.000000   38.525000    8.000000    2.292400    0.000000  \n",
      "max     20.000000  540.000000  167.000000   25.142900    1.000000  \n",
      "\n",
      "[8 rows x 21 columns]\n"
     ]
    }
   ],
   "source": [
    "x = data.drop(['name','version','name.1','bug'], axis=1)\n",
    "y = data['bug']\n",
    "data = data.drop(['name','version','name.1'], axis=1)\n",
    "print(\"preprocessed data overview:\")\n",
    "print(data.describe())"
   ]
  },
  {
   "cell_type": "markdown",
   "metadata": {},
   "source": [
    "# 2 Data balancing"
   ]
  },
  {
   "cell_type": "markdown",
   "metadata": {},
   "source": [
    "## SMOTE \n",
    "Use synthetic Minority Oversampling Technique (SMOTE) and indicate the categorical columns\n"
   ]
  },
  {
   "cell_type": "code",
   "execution_count": 56,
   "metadata": {},
   "outputs": [
    {
     "name": "stdout",
     "output_type": "stream",
     "text": [
      "X_smotec.shape: (962, 20)\n"
     ]
    }
   ],
   "source": [
    "X_balanced, y_balanced = SMOTE().fit_resample(x, y)\n",
    "print('X_smotec.shape: {0}'.format(X_balanced.shape))"
   ]
  },
  {
   "cell_type": "markdown",
   "metadata": {},
   "source": [
    "# 3 Feature selection\n",
    "In this task we aim to select the features that most influence the classification outcome. We aim to remove covariant features to reduce overfitting and the training cost."
   ]
  },
  {
   "cell_type": "markdown",
   "metadata": {},
   "source": [
    "## Univariate feature selection\n",
    "*Univariate feature selection works by selecting the best features based on univariate statistical tests. SelectPercentile (a type of Univariate feature selection) removes all but a user-specified highest scoring percentage of features.* "
   ]
  },
  {
   "cell_type": "code",
   "execution_count": 57,
   "metadata": {},
   "outputs": [
    {
     "name": "stdout",
     "output_type": "stream",
     "text": [
      "     X_best_feature.shape: (962, 16)\n"
     ]
    }
   ],
   "source": [
    "X_best_feature = SelectPercentile(chi2, percentile=80).fit_transform(X_balanced, y_balanced)\n",
    "print('     X_best_feature.shape: {0}'.format(X_best_feature.shape))"
   ]
  },
  {
   "cell_type": "markdown",
   "metadata": {},
   "source": [
    "# 4 Classification \n"
   ]
  },
  {
   "cell_type": "markdown",
   "metadata": {},
   "source": [
    "## 4.1  single classifiers"
   ]
  },
  {
   "cell_type": "code",
   "execution_count": 58,
   "metadata": {},
   "outputs": [],
   "source": [
    "d_tree = tree.DecisionTreeClassifier()\n",
    "l_regression = LogisticRegression(solver='lbfgs',max_iter=5000)\n",
    "n_bayes = GaussianNB()\n",
    "single_classifier_list = [(\"d_tree\",d_tree),(\"l_regression\",l_regression), (\"n_bayes\",n_bayes)] "
   ]
  },
  {
   "cell_type": "markdown",
   "metadata": {},
   "source": [
    "## 4.2 Ensemble Classifiers "
   ]
  },
  {
   "cell_type": "markdown",
   "metadata": {},
   "source": [
    "**4.2.1 Majority voting classifier**\n",
    "\n",
    "*Each instance is predicted using the m models that return a confidence score ranging between 0 and 1.The scores are combined by an operator (e.g.,Average)*"
   ]
  },
  {
   "cell_type": "code",
   "execution_count": 59,
   "metadata": {},
   "outputs": [],
   "source": [
    "eclf = VotingClassifier(estimators=[(\"d_tree\",d_tree),(\"l_regression\",l_regression), (\"n_bayes\",n_bayes)]\n",
    "                            , voting='hard')\n",
    "majority_voting_clf=[('ensemble_voting',eclf)]\n",
    "\n"
   ]
  },
  {
   "cell_type": "markdown",
   "metadata": {},
   "source": [
    "**4.2.2 Bagging Classifier**\n",
    "\n",
    "*M datasets with the same size as the original one are generated by performing sampling with replacement (Bootstrap) from the training set. Each dataset a model is trained using a weak classifier. The instances are predicted using the m models and the outcomes are combined using majority voting.*"
   ]
  },
  {
   "cell_type": "code",
   "execution_count": 60,
   "metadata": {},
   "outputs": [],
   "source": [
    "bagging = BaggingClassifier(base_estimator=d_tree, n_estimators=10)\n",
    "bagging_clf=[('ensemble_bagging',bagging)]\n"
   ]
  },
  {
   "cell_type": "markdown",
   "metadata": {},
   "source": [
    "**4.2.3 Random Forest**\n",
    "\n",
    "*Random Forest is an ensemble of pruned decision trees. Similarly to Bagging, each decision tree is built through bootstrapping.The instances are predicted using the built decision trees. The predictions are combined using majority voting.*"
   ]
  },
  {
   "cell_type": "code",
   "execution_count": 61,
   "metadata": {},
   "outputs": [],
   "source": [
    "randomForest = RandomForestClassifier(n_estimators=10)\n",
    "randomForest_clf= [('ensemble_randomForest',randomForest)]"
   ]
  },
  {
   "cell_type": "markdown",
   "metadata": {},
   "source": [
    "**Compare the accuracy metrics of the above classifiers**\n",
    "Ensemble classifiers are expected to have better accuracy metrics than single classifiers"
   ]
  },
  {
   "cell_type": "code",
   "execution_count": 62,
   "metadata": {},
   "outputs": [
    {
     "name": "stdout",
     "output_type": "stream",
     "text": [
      "d_tree Number of mislabeled points out of a total 962 points : 32\n",
      "d_treeconfusion_matrix:\n",
      "  d_treeclassifier_accuracy_metrics:\n",
      "     True Negative: 451\n",
      "     False Positive: 30\n",
      "     False Negative: 2\n",
      "     True Positive: 479\n"
     ]
    },
    {
     "data": {
      "image/png": "[encoded data removed]",
      "text/plain": [
       "<Figure size 432x288 with 1 Axes>"
      ]
     },
     "metadata": {
      "needs_background": "light"
     },
     "output_type": "display_data"
    },
    {
     "name": "stdout",
     "output_type": "stream",
     "text": [
      "l_regression Number of mislabeled points out of a total 962 points : 106\n",
      "l_regressionconfusion_matrix:\n",
      "  l_regressionclassifier_accuracy_metrics:\n",
      "     True Negative: 395\n",
      "     False Positive: 86\n",
      "     False Negative: 20\n",
      "     True Positive: 461\n"
     ]
    },
    {
     "data": {
      "image/png": "[encoded data removed]",
      "text/plain": [
       "<Figure size 432x288 with 1 Axes>"
      ]
     },
     "metadata": {
      "needs_background": "light"
     },
     "output_type": "display_data"
    },
    {
     "name": "stdout",
     "output_type": "stream",
     "text": [
      "n_bayes Number of mislabeled points out of a total 962 points : 265\n",
      "n_bayesconfusion_matrix:\n",
      "  n_bayesclassifier_accuracy_metrics:\n",
      "     True Negative: 404\n",
      "     False Positive: 77\n",
      "     False Negative: 188\n",
      "     True Positive: 293\n"
     ]
    },
    {
     "data": {
      "image/png": "[encoded data removed]",
      "text/plain": [
       "<Figure size 432x288 with 1 Axes>"
      ]
     },
     "metadata": {
      "needs_background": "light"
     },
     "output_type": "display_data"
    },
    {
     "name": "stdout",
     "output_type": "stream",
     "text": [
      "ensemble_voting Number of mislabeled points out of a total 962 points : 57\n",
      "ensemble_votingconfusion_matrix:\n",
      "  ensemble_votingclassifier_accuracy_metrics:\n",
      "     True Negative: 439\n",
      "     False Positive: 42\n",
      "     False Negative: 15\n",
      "     True Positive: 466\n"
     ]
    },
    {
     "data": {
      "image/png": "[encoded data removed]",
      "text/plain": [
       "<Figure size 432x288 with 1 Axes>"
      ]
     },
     "metadata": {
      "needs_background": "light"
     },
     "output_type": "display_data"
    },
    {
     "name": "stdout",
     "output_type": "stream",
     "text": [
      "ensemble_bagging Number of mislabeled points out of a total 962 points : 23\n",
      "ensemble_baggingconfusion_matrix:\n",
      "  ensemble_baggingclassifier_accuracy_metrics:\n",
      "     True Negative: 463\n",
      "     False Positive: 18\n",
      "     False Negative: 5\n",
      "     True Positive: 476\n"
     ]
    },
    {
     "data": {
      "image/png": "[encoded data removed]",
      "text/plain": [
       "<Figure size 432x288 with 1 Axes>"
      ]
     },
     "metadata": {
      "needs_background": "light"
     },
     "output_type": "display_data"
    },
    {
     "name": "stdout",
     "output_type": "stream",
     "text": [
      "ensemble_randomForest Number of mislabeled points out of a total 962 points : 21\n",
      "ensemble_randomForestconfusion_matrix:\n",
      "  ensemble_randomForestclassifier_accuracy_metrics:\n",
      "     True Negative: 461\n",
      "     False Positive: 20\n",
      "     False Negative: 1\n",
      "     True Positive: 480\n"
     ]
    },
    {
     "data": {
      "image/png": "[encoded data removed]",
      "text/plain": [
       "<Figure size 432x288 with 1 Axes>"
      ]
     },
     "metadata": {
      "needs_background": "light"
     },
     "output_type": "display_data"
    },
    {
     "name": "stdout",
     "output_type": "stream",
     "text": [
      "  Classifier MetricsAccuracy Metrics:\n",
      "-------\n",
      "{'d_tree': {'accuracy': 0.9667359667359667, 'recall': 0.9410609037328095, 'f_score': 0.9676767676767678, 'precision': 0.9958419958419958, 'roc_auc_score': 0.9683229463476409, 'matthews_corrcoef': 0.9350575663737554}}\n",
      "-------\n",
      "{'l_regression': {'accuracy': 0.8898128898128899, 'recall': 0.8427787934186471, 'f_score': 0.896887159533074, 'precision': 0.9584199584199584, 'roc_auc_score': 0.8972930111671549, 'matthews_corrcoef': 0.7870703571740797}}\n",
      "-------\n",
      "{'n_bayes': {'accuracy': 0.7245322245322245, 'recall': 0.7918918918918919, 'f_score': 0.6886016451233843, 'precision': 0.6091476091476091, 'roc_auc_score': 0.7371621621621622, 'matthews_corrcoef': 0.4615216044570067}}\n",
      "-------\n",
      "{'ensemble_voting': {'accuracy': 0.9407484407484408, 'recall': 0.9173228346456693, 'f_score': 0.942366026289181, 'precision': 0.9688149688149689, 'roc_auc_score': 0.9421415935342884, 'matthews_corrcoef': 0.8828889351221216}}\n",
      "-------\n",
      "{'ensemble_bagging': {'accuracy': 0.9760914760914761, 'recall': 0.9635627530364372, 'f_score': 0.9764102564102565, 'precision': 0.9896049896049897, 'roc_auc_score': 0.9764394961763383, 'matthews_corrcoef': 0.9525309086908877}}\n",
      "-------\n",
      "{'ensemble_randomForest': {'accuracy': 0.9781704781704782, 'recall': 0.96, 'f_score': 0.9785932721712539, 'precision': 0.997920997920998, 'roc_auc_score': 0.978917748917749, 'matthews_corrcoef': 0.9570879353629508}}\n",
      "----------\n",
      "  ensemble_randomForest has the best matthews_corrcoef score: 0.9570879353629508\n"
     ]
    },
    {
     "data": {
      "text/plain": [
       "'ensemble_randomForest'"
      ]
     },
     "execution_count": 62,
     "metadata": {},
     "output_type": "execute_result"
    }
   ],
   "source": [
    "y_best_feature = y_balanced\n",
    "classifier_list = single_classifier_list + majority_voting_clf+bagging_clf + randomForest_clf\n",
    "classifier_accuracy_metrics = classifier_helper(classifier_list,X_best_feature,y_best_feature)\n",
    "get_best_accuracy_metrics(classifier_accuracy_metrics,\"Classifier Metrics\",\"matthews_corrcoef\")"
   ]
  },
  {
   "attachments": {
    "image.png": {
     "image/png": "[encoded data removed]"
    }
   },
   "cell_type": "markdown",
   "metadata": {},
   "source": [
    "# 5 Helper Functions \n",
    "\n",
    "## 5.1 compute accuracy metrics\n",
    "\n",
    "\n",
    "   **i. precision - It describes how good a model is at predicting the positive class**\n",
    "   \n",
    "    precision/Positive predictive value = TP/(TP+FP)\n",
    "    \n",
    "   **ii. recall-It describes how good the model is at predicting the positive class when the actual outcome is positive**\n",
    "   \n",
    "    recall/sensitivity/true positive rate = TP/(TP+FN)\n",
    "    \n",
    "   **iii. accuracy - Fraction predicted correctly**\n",
    "   \n",
    "    Accuracy(Fraction predicted correctly) = (TP+TN)/(TP+TN+FP+FN)\n",
    "    \n",
    "   **iv. f1-score - A measure of a test's accuracy that considers both the precision and the recall**\n",
    "    \n",
    "    f1_score = 2*precision*recall/(precision+recall)\n",
    "    \n",
    "   **V. Receiver Operating Characteristic area under curve (ROC AUC)** - The area under a roc curve (a curve of true positive rate against false positive rate (false positive rate = FP/TN + FP)}). Suitable for balanced data\n",
    "   \n",
    "   **vi.  Matthews correlation coefficient** - *a correlation coefficient between the observed and predicted binary classifications; it returns a value between −1 and +1. A coefficient of +1 represents a perfect prediction, 0 no better than random prediction and −1*. Suitable for both balanced and unbalanced data\n",
    "    ![image.png](attachment:image.png)\n"
   ]
  },
  {
   "cell_type": "code",
   "execution_count": 63,
   "metadata": {},
   "outputs": [],
   "source": [
    "#compute_accuracy_metrics(y_pred,y_test, dataset_label)\n",
    "#    parameters: \n",
    "#                - y_pred  - the predicted labels by the function \"logistic_regression_evalution\"\n",
    "#                - y_test - the actual labels associated with the dataset\n",
    "#                - dataset_label:- label (eg what data balancing or feature selection technique)\n",
    "#     returns: \n",
    "# .              - a dictionary of accuracy metrics associated with the dataset_label\n",
    "    \n",
    "def compute_accuracy_metrics(y_pred,y_test, dataset_label):\n",
    "    plot_roc_curve(y_pred,y_test, dataset_label)\n",
    "    return {dataset_label: {\"accuracy\":accuracy_score(y_pred, y_test),\n",
    "                    \"recall\":recall_score(y_pred,y_test),\n",
    "                    \"f_score\":f1_score(y_pred, y_test),\n",
    "                    \"precision\": precision_score(y_pred,y_test),\n",
    "                    \"roc_auc_score\": roc_auc_score(y_pred,y_test),\n",
    "                    \"matthews_corrcoef\": matthews_corrcoef(y_pred,y_test)}}\n",
    "def plot_roc_curve(y_pred,y_test, dataset_label):\n",
    "    fpr, tpr, thresholds = roc_curve(y_test, y_pred)\n",
    "    pyplot.plot([0, 1], [0, 1], linestyle='--')\n",
    "    pyplot.plot(fpr, tpr, marker='.')\n",
    "    pyplot.title(dataset_label+ ' roc_curve')\n",
    "    pyplot.show()\n"
   ]
  },
  {
   "cell_type": "code",
   "execution_count": 64,
   "metadata": {},
   "outputs": [],
   "source": [
    "# pretty prints a confusion matrix for better viewing\n",
    "def pretty_print_confusion_matrix(matrix):\n",
    "    print('     True Negative: {0}'.format(matrix[0][0]))\n",
    "    print('     False Positive: {0}'.format(matrix[0][1]))\n",
    "    print('     False Negative: {0}'.format(matrix[1][0]))\n",
    "    print('     True Positive: {0}'.format(matrix[1][1]))"
   ]
  },
  {
   "cell_type": "markdown",
   "metadata": {},
   "source": [
    "## 5.2 Getting the superior metrics given a list of dictionary metrics\n",
    "**In the below function, we comapre different accuracy metircs provided as a list of dictionaries:**\n",
    "**Get the best scoring data in terms of accuracy, recall, f_score, precision,roc_auc_score,\n",
    "       or matthews_corrcoef**"
   ]
  },
  {
   "cell_type": "code",
   "execution_count": 65,
   "metadata": {},
   "outputs": [],
   "source": [
    "#get_best_accuracy_metrics(dictionary_list,label,metric):\n",
    "# parameters\n",
    "#     - dictionary_list - a list of data or classifier label and accuracy metrics dictionary\n",
    "#     - label - a label to identify what metrics were are comnparing eg classifiers, data balancers,\n",
    "#      or feature selectors\n",
    "#     - metric - the accuracy metric to compare performance by: accuracy, recall, f_score, precision,roc_auc_score,\n",
    "#                 or matthews_corrcoef\n",
    "# returns \n",
    "#      - the best dataSet or classifier label in terms of the f1_score metric\n",
    "def get_best_accuracy_metrics(dictionary_list,label,metric):\n",
    "    #print the accuracy metrics for each data\n",
    "    print('  ' + label + \"Accuracy Metrics:\")\n",
    "    for dictionary in dictionary_list:\n",
    "        print(\"-------\")\n",
    "        print(dictionary)\n",
    "    #determine the best dataset based on each dataset's the f_scores\n",
    "    max_f1_score = 0.0\n",
    "    best_data_set_or_model = \"\"\n",
    "    for dictionary in dictionary_list:\n",
    "        (data_set_type,sub_dict) = list(dictionary.items())[0]\n",
    "        f_score = sub_dict[metric]\n",
    "        if f_score > max_f1_score:\n",
    "            max_f1_score = f_score\n",
    "            best_data_set_or_model = data_set_type\n",
    "    print (\"----------\")       \n",
    "    print('  '+best_data_set_or_model + ' has the best ' + metric +' score: {0}'.format(max_f1_score))\n",
    "    return best_data_set_or_model \n",
    "          "
   ]
  },
  {
   "cell_type": "markdown",
   "metadata": {},
   "source": [
    "## 5.3 A classifier helper function to train and use K-fold validation for each classifier"
   ]
  },
  {
   "cell_type": "code",
   "execution_count": 66,
   "metadata": {},
   "outputs": [],
   "source": [
    "#classifier_helper(classifier_list,X_best_feature,y_best_feature)\n",
    "# parameters\n",
    "#     - classifier_list - a list classifiers label, classifier object tuples\n",
    "#     - X_best_feature - best features from the data-balancing and feature selection pipeline\n",
    "#     - y_best_feature - best target column from the data-balancing and feature selection pipeline\n",
    "# returns \n",
    "#      - a dictionary containing the classifier accuracy metrics\n",
    "def classifier_helper(classifier_list,X_best_feature,y_best_feature):\n",
    "    classifier_accuracy_metrics = []\n",
    "    for classifier in classifier_list:\n",
    "        (classifier_name,clf) = classifier\n",
    "        y_pred = cross_val_predict(clf, X_best_feature, y_best_feature, cv=10)\n",
    "        print(classifier_name + \" Number of mislabeled points out of a total %d points : %d\"% \n",
    "                  (y_best_feature.shape[0],(y_best_feature != y_pred).sum()))\n",
    "        print(classifier_name + \"confusion_matrix:\")\n",
    "        print('  '+ classifier_name + \"classifier_accuracy_metrics:\" )\n",
    "        pretty_print_confusion_matrix(confusion_matrix(y_best_feature, y_pred))\n",
    "        classifier_accuracy_metrics.append(compute_accuracy_metrics(y_pred,y_best_feature, classifier_name))\n",
    "    return classifier_accuracy_metrics"
   ]
  }
 ],
 "metadata": {
  "kernelspec": {
   "display_name": "Python 3",
   "language": "python",
   "name": "python3"
  },
  "language_info": {
   "codemirror_mode": {
    "name": "ipython",
    "version": 3
   },
   "file_extension": ".py",
   "mimetype": "text/x-python",
   "name": "python",
   "nbconvert_exporter": "python",
   "pygments_lexer": "ipython3",
   "version": "3.7.1"
  }
 },
 "nbformat": 4,
 "nbformat_minor": 2
}
