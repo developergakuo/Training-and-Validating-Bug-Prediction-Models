{
 "cells": [
  {
   "cell_type": "markdown",
   "metadata": {},
   "source": [
    "# Training and Validating Bug Prediction Models Assignment \n",
    "\n",
    "\n",
    "Below are the required imports"
   ]
  },
  {
   "cell_type": "code",
   "execution_count": 81,
   "metadata": {},
   "outputs": [],
   "source": [
    "# dataset operations (panda dataframes) \n",
    "import pandas as pd\n",
    "# preprocessing (binarizer)\n",
    "from sklearn import preprocessing\n",
    "#data balancing\n",
    "from imblearn.over_sampling import RandomOverSampler\n",
    "from imblearn.under_sampling import RandomUnderSampler\n",
    "from imblearn.over_sampling import SMOTE\n",
    "# accuracy metrics\n",
    "from sklearn.model_selection import cross_val_predict\n",
    "from sklearn.metrics import f1_score, confusion_matrix\n",
    "from sklearn.metrics import accuracy_score\n",
    "from sklearn.metrics import recall_score\n",
    "from sklearn.metrics import precision_score\n",
    "from sklearn.metrics import roc_auc_score\n",
    "from sklearn.metrics import matthews_corrcoef\n",
    "from matplotlib import pyplot\n",
    "from sklearn.metrics import roc_curve\n",
    "# feature selection \n",
    "from sklearn.datasets import load_digits\n",
    "from mlxtend.feature_selection import ExhaustiveFeatureSelector \n",
    "from sklearn.feature_selection import VarianceThreshold\n",
    "from sklearn.feature_selection import SelectPercentile, chi2\n",
    "# single classifiers\n",
    "from sklearn import tree\n",
    "from sklearn.neighbors import KNeighborsClassifier\n",
    "from sklearn.naive_bayes import GaussianNB\n",
    "# ensemble classifiers\n",
    "from sklearn.linear_model import LogisticRegression\n",
    "from sklearn.ensemble import VotingClassifier\n",
    "from sklearn.ensemble import BaggingClassifier\n",
    "from sklearn.ensemble import RandomForestClassifier"
   ]
  },
  {
   "cell_type": "markdown",
   "metadata": {},
   "source": [
    "# 1 Read in CSV data and preprocess"
   ]
  },
  {
   "cell_type": "markdown",
   "metadata": {},
   "source": [
    "## 1.1 Reading in the csv file data with pandas into a dataframe\n"
   ]
  },
  {
   "cell_type": "code",
   "execution_count": 82,
   "metadata": {},
   "outputs": [],
   "source": [
    "data = pd.read_csv(\"./datasets/lucene-2.4.csv\" )"
   ]
  },
  {
   "cell_type": "markdown",
   "metadata": {},
   "source": [
    "## 1.2 Binarize the bug column\n",
    "Binarize the 'bug' column - '0' for **No-bug** and '1' for **bug**."
   ]
  },
  {
   "cell_type": "code",
   "execution_count": 83,
   "metadata": {},
   "outputs": [],
   "source": [
    "binarizer = preprocessing.Binarizer()\n",
    "data['bug'] = binarizer.transform(data['bug'].values.reshape(-1,1))"
   ]
  },
  {
   "cell_type": "markdown",
   "metadata": {},
   "source": [
    "Separate the features (x) from the target column (y). Also, remove non-numeric fields that do not help in prediction. Note: Some data balancers do not accept non-numeric fields.\n",
    "The data description helps us see the counts of each column, the variance and the mean."
   ]
  },
  {
   "cell_type": "code",
   "execution_count": 84,
   "metadata": {},
   "outputs": [
    {
     "name": "stdout",
     "output_type": "stream",
     "text": [
      "preprocessed data overview:\n",
      "              wmc         dit         noc        cbo         rfc         lcom  \\\n",
      "count  340.000000  340.000000  340.000000  340.00000  340.000000   340.000000   \n",
      "mean    10.394118    1.805882    0.670588   10.75000   25.191176    68.723529   \n",
      "std     13.440922    0.891104    1.816920   12.16307   32.199259   442.984521   \n",
      "min      1.000000    1.000000    0.000000    0.00000    1.000000     0.000000   \n",
      "25%      4.000000    1.000000    0.000000    4.00000    8.000000     0.000000   \n",
      "50%      7.000000    2.000000    0.000000    7.00000   18.000000     3.000000   \n",
      "75%     13.000000    2.000000    0.000000   13.00000   31.000000    15.000000   \n",
      "max    166.000000    5.000000   17.000000  128.00000  392.000000  6747.000000   \n",
      "\n",
      "               ca          ce         npm       lcom3     ...             dam  \\\n",
      "count  340.000000  340.000000  340.000000  340.000000     ...      340.000000   \n",
      "mean     5.979412    5.388235    6.747059    0.964345     ...        0.456135   \n",
      "std     10.832712    6.154537    8.588640    0.630414     ...        0.441198   \n",
      "min      0.000000    0.000000    0.000000    0.000000     ...        0.000000   \n",
      "25%      1.000000    1.000000    2.000000    0.571429     ...        0.000000   \n",
      "50%      2.000000    3.000000    5.000000    0.777778     ...        0.381818   \n",
      "75%      5.000000    7.000000    8.000000    1.175000     ...        1.000000   \n",
      "max    104.000000   46.000000   88.000000    2.000000     ...        1.000000   \n",
      "\n",
      "              moa         mfa         cam          ic         cbm         amc  \\\n",
      "count  340.000000  340.000000  340.000000  340.000000  340.000000  340.000000   \n",
      "mean     1.288235    0.327009    0.428662    0.529412    1.194118   23.044415   \n",
      "std      2.214029    0.337937    0.219602    0.701254    2.024327   27.158958   \n",
      "min      0.000000    0.000000    0.000000    0.000000    0.000000    0.000000   \n",
      "25%      0.000000    0.000000    0.270833    0.000000    0.000000    7.468750   \n",
      "50%      0.000000    0.310000    0.383658    0.000000    0.000000   16.338889   \n",
      "75%      2.000000    0.625000    0.533333    1.000000    2.000000   27.812500   \n",
      "max     13.000000    1.000000    1.000000    2.000000   15.000000  237.200000   \n",
      "\n",
      "           max_cc      avg_cc         bug  \n",
      "count  340.000000  340.000000  340.000000  \n",
      "mean     4.173529    1.290327    0.597059  \n",
      "std      8.395244    1.256305    0.491212  \n",
      "min      0.000000    0.000000    0.000000  \n",
      "25%      1.000000    0.750000    0.000000  \n",
      "50%      2.000000    1.000000    1.000000  \n",
      "75%      5.000000    1.500000    1.000000  \n",
      "max    112.000000   16.200000    1.000000  \n",
      "\n",
      "[8 rows x 21 columns]\n"
     ]
    }
   ],
   "source": [
    "x = data.drop(['name','version','name.1','bug'], axis=1)\n",
    "y = data['bug']\n",
    "data = data.drop(['name','version','name.1'], axis=1)\n",
    "print(\"preprocessed data overview:\")\n",
    "print(data.describe())"
   ]
  },
  {
   "cell_type": "markdown",
   "metadata": {},
   "source": [
    "# 2 Data balancing"
   ]
  },
  {
   "cell_type": "markdown",
   "metadata": {},
   "source": [
    "## SMOTE \n",
    "Use synthetic Minority Oversampling Technique (SMOTE) and indicate the categorical columns\n"
   ]
  },
  {
   "cell_type": "code",
   "execution_count": 85,
   "metadata": {},
   "outputs": [
    {
     "name": "stdout",
     "output_type": "stream",
     "text": [
      "X_smotec.shape: (406, 20)\n"
     ]
    }
   ],
   "source": [
    "X_balanced, y_balanced = SMOTE().fit_resample(x, y)\n",
    "print('X_smotec.shape: {0}'.format(X_balanced.shape))"
   ]
  },
  {
   "cell_type": "markdown",
   "metadata": {},
   "source": [
    "# 3 Feature selection\n",
    "In this task we aim to select the features that most influence the classification outcome. We aim to remove covariant features to reduce overfitting and the training cost."
   ]
  },
  {
   "cell_type": "markdown",
   "metadata": {},
   "source": [
    "## Univariate feature selection\n",
    "*Univariate feature selection works by selecting the best features based on univariate statistical tests. SelectPercentile (a type of Univariate feature selection) removes all but a user-specified highest scoring percentage of features.* "
   ]
  },
  {
   "cell_type": "code",
   "execution_count": 86,
   "metadata": {},
   "outputs": [
    {
     "name": "stdout",
     "output_type": "stream",
     "text": [
      "     X_best_feature.shape: (406, 16)\n"
     ]
    }
   ],
   "source": [
    "X_best_feature = SelectPercentile(chi2, percentile=80).fit_transform(X_balanced, y_balanced)\n",
    "print('     X_best_feature.shape: {0}'.format(X_best_feature.shape))"
   ]
  },
  {
   "cell_type": "markdown",
   "metadata": {},
   "source": [
    "# 4 Classification \n"
   ]
  },
  {
   "cell_type": "markdown",
   "metadata": {},
   "source": [
    "## 4.1  single classifiers"
   ]
  },
  {
   "cell_type": "code",
   "execution_count": 87,
   "metadata": {},
   "outputs": [],
   "source": [
    "d_tree = tree.DecisionTreeClassifier()\n",
    "l_regression = LogisticRegression(solver='lbfgs',max_iter=5000)\n",
    "n_bayes = GaussianNB()\n",
    "single_classifier_list = [(\"d_tree\",d_tree),(\"l_regression\",l_regression), (\"n_bayes\",n_bayes)] "
   ]
  },
  {
   "cell_type": "markdown",
   "metadata": {},
   "source": [
    "## 4.2 Ensemble Classifiers "
   ]
  },
  {
   "cell_type": "markdown",
   "metadata": {},
   "source": [
    "**4.2.1 Majority voting classifier**\n",
    "\n",
    "*Each instance is predicted using the m models that return a confidence score ranging between 0 and 1.The scores are combined by an operator (e.g.,Average)*"
   ]
  },
  {
   "cell_type": "code",
   "execution_count": 88,
   "metadata": {},
   "outputs": [],
   "source": [
    "eclf = VotingClassifier(estimators=[(\"d_tree\",d_tree),(\"l_regression\",l_regression), (\"n_bayes\",n_bayes)]\n",
    "                            , voting='hard')\n",
    "majority_voting_clf=[('ensemble_voting',eclf)]\n",
    "\n"
   ]
  },
  {
   "cell_type": "markdown",
   "metadata": {},
   "source": [
    "**4.2.2 Bagging Classifier**\n",
    "\n",
    "*M datasets with the same size as the original one are generated by performing sampling with replacement (Bootstrap) from the training set. Each dataset a model is trained using a weak classifier. The instances are predicted using the m models and the outcomes are combined using majority voting.*"
   ]
  },
  {
   "cell_type": "code",
   "execution_count": 89,
   "metadata": {},
   "outputs": [],
   "source": [
    "bagging = BaggingClassifier(base_estimator=d_tree, n_estimators=10)\n",
    "bagging_clf=[('ensemble_bagging',bagging)]\n"
   ]
  },
  {
   "cell_type": "markdown",
   "metadata": {},
   "source": [
    "**4.2.3 Random Forest**\n",
    "\n",
    "*Random Forest is an ensemble of pruned decision trees. Similarly to Bagging, each decision tree is built through bootstrapping.The instances are predicted using the built decision trees. The predictions are combined using majority voting.*"
   ]
  },
  {
   "cell_type": "code",
   "execution_count": 90,
   "metadata": {},
   "outputs": [],
   "source": [
    "randomForest = RandomForestClassifier(n_estimators=10)\n",
    "randomForest_clf= [('ensemble_randomForest',randomForest)]"
   ]
  },
  {
   "cell_type": "markdown",
   "metadata": {},
   "source": [
    "**Compare the accuracy metrics of the above classifiers**\n",
    "Ensemble classifiers are expected to have better accuracy metrics than single classifiers"
   ]
  },
  {
   "cell_type": "code",
   "execution_count": 91,
   "metadata": {},
   "outputs": [
    {
     "name": "stdout",
     "output_type": "stream",
     "text": [
      "d_tree Number of mislabeled points out of a total 406 points : 127\n",
      "d_treeconfusion_matrix:\n",
      "  d_treeclassifier_accuracy_metrics:\n",
      "     True Negative: 138\n",
      "     False Positive: 65\n",
      "     False Negative: 62\n",
      "     True Positive: 141\n"
     ]
    },
    {
     "data": {
      "image/png": "[encoded data removed]",
      "text/plain": [
       "<Figure size 432x288 with 1 Axes>"
      ]
     },
     "metadata": {
      "needs_background": "light"
     },
     "output_type": "display_data"
    },
    {
     "name": "stdout",
     "output_type": "stream",
     "text": [
      "l_regression Number of mislabeled points out of a total 406 points : 121\n",
      "l_regressionconfusion_matrix:\n",
      "  l_regressionclassifier_accuracy_metrics:\n",
      "     True Negative: 155\n",
      "     False Positive: 48\n",
      "     False Negative: 73\n",
      "     True Positive: 130\n"
     ]
    },
    {
     "data": {
      "image/png": "[encoded data removed]",
      "text/plain": [
       "<Figure size 432x288 with 1 Axes>"
      ]
     },
     "metadata": {
      "needs_background": "light"
     },
     "output_type": "display_data"
    },
    {
     "name": "stdout",
     "output_type": "stream",
     "text": [
      "n_bayes Number of mislabeled points out of a total 406 points : 140\n",
      "n_bayesconfusion_matrix:\n",
      "  n_bayesclassifier_accuracy_metrics:\n",
      "     True Negative: 187\n",
      "     False Positive: 16\n",
      "     False Negative: 124\n",
      "     True Positive: 79\n"
     ]
    },
    {
     "data": {
      "image/png": "[encoded data removed]",
      "text/plain": [
       "<Figure size 432x288 with 1 Axes>"
      ]
     },
     "metadata": {
      "needs_background": "light"
     },
     "output_type": "display_data"
    },
    {
     "name": "stdout",
     "output_type": "stream",
     "text": [
      "ensemble_voting Number of mislabeled points out of a total 406 points : 115\n",
      "ensemble_votingconfusion_matrix:\n",
      "  ensemble_votingclassifier_accuracy_metrics:\n",
      "     True Negative: 171\n",
      "     False Positive: 32\n",
      "     False Negative: 83\n",
      "     True Positive: 120\n"
     ]
    },
    {
     "data": {
      "image/png": "[encoded data removed]",
      "text/plain": [
       "<Figure size 432x288 with 1 Axes>"
      ]
     },
     "metadata": {
      "needs_background": "light"
     },
     "output_type": "display_data"
    },
    {
     "name": "stdout",
     "output_type": "stream",
     "text": [
      "ensemble_bagging Number of mislabeled points out of a total 406 points : 104\n",
      "ensemble_baggingconfusion_matrix:\n",
      "  ensemble_baggingclassifier_accuracy_metrics:\n",
      "     True Negative: 161\n",
      "     False Positive: 42\n",
      "     False Negative: 62\n",
      "     True Positive: 141\n"
     ]
    },
    {
     "data": {
      "image/png": "[encoded data removed]",
      "text/plain": [
       "<Figure size 432x288 with 1 Axes>"
      ]
     },
     "metadata": {
      "needs_background": "light"
     },
     "output_type": "display_data"
    },
    {
     "name": "stdout",
     "output_type": "stream",
     "text": [
      "ensemble_randomForest Number of mislabeled points out of a total 406 points : 107\n",
      "ensemble_randomForestconfusion_matrix:\n",
      "  ensemble_randomForestclassifier_accuracy_metrics:\n",
      "     True Negative: 167\n",
      "     False Positive: 36\n",
      "     False Negative: 71\n",
      "     True Positive: 132\n"
     ]
    },
    {
     "data": {
      "image/png": "[encoded data removed]",
      "text/plain": [
       "<Figure size 432x288 with 1 Axes>"
      ]
     },
     "metadata": {
      "needs_background": "light"
     },
     "output_type": "display_data"
    },
    {
     "name": "stdout",
     "output_type": "stream",
     "text": [
      "  Classifier MetricsAccuracy Metrics:\n",
      "-------\n",
      "{'d_tree': {'accuracy': 0.687192118226601, 'recall': 0.6844660194174758, 'f_score': 0.6894865525672372, 'precision': 0.6945812807881774, 'roc_auc_score': 0.6872330097087378, 'matthews_corrcoef': 0.3744251257024314}}\n",
      "-------\n",
      "{'l_regression': {'accuracy': 0.7019704433497537, 'recall': 0.7303370786516854, 'f_score': 0.6824146981627296, 'precision': 0.6403940886699507, 'roc_auc_score': 0.7050808200275971, 'matthews_corrcoef': 0.40703937963545905}}\n",
      "-------\n",
      "{'n_bayes': {'accuracy': 0.6551724137931034, 'recall': 0.8315789473684211, 'f_score': 0.5302013422818793, 'precision': 0.3891625615763547, 'roc_auc_score': 0.7164325605009307, 'matthews_corrcoef': 0.36652073794726175}}\n",
      "-------\n",
      "{'ensemble_voting': {'accuracy': 0.7167487684729064, 'recall': 0.7894736842105263, 'f_score': 0.6760563380281691, 'precision': 0.5911330049261084, 'roc_auc_score': 0.7313510153336096, 'matthews_corrcoef': 0.44786179858753916}}\n",
      "-------\n",
      "{'ensemble_bagging': {'accuracy': 0.7438423645320197, 'recall': 0.7704918032786885, 'f_score': 0.7305699481865285, 'precision': 0.6945812807881774, 'roc_auc_score': 0.746232448724546, 'matthews_corrcoef': 0.49006898502762897}}\n",
      "-------\n",
      "{'ensemble_randomForest': {'accuracy': 0.7364532019704434, 'recall': 0.7857142857142857, 'f_score': 0.7115902964959568, 'precision': 0.6502463054187192, 'roc_auc_score': 0.7436974789915966, 'matthews_corrcoef': 0.4800960288096034}}\n",
      "----------\n",
      "  ensemble_bagging has the best matthews_corrcoef score: 0.49006898502762897\n"
     ]
    },
    {
     "data": {
      "text/plain": [
       "'ensemble_bagging'"
      ]
     },
     "execution_count": 91,
     "metadata": {},
     "output_type": "execute_result"
    }
   ],
   "source": [
    "y_best_feature = y_balanced\n",
    "classifier_list = single_classifier_list + majority_voting_clf+bagging_clf + randomForest_clf\n",
    "classifier_accuracy_metrics = classifier_helper(classifier_list,X_best_feature,y_best_feature)\n",
    "get_best_accuracy_metrics(classifier_accuracy_metrics,\"Classifier Metrics\",\"matthews_corrcoef\")"
   ]
  },
  {
   "attachments": {
    "image.png": {
     "image/png": "[encoded data removed]"
    }
   },
   "cell_type": "markdown",
   "metadata": {},
   "source": [
    "# 5 Helper Functions \n",
    "\n",
    "## 5.1 compute accuracy metrics\n",
    "\n",
    "\n",
    "   **i. precision - It describes how good a model is at predicting the positive class**\n",
    "   \n",
    "    precision/Positive predictive value = TP/(TP+FP)\n",
    "    \n",
    "   **ii. recall-It describes how good the model is at predicting the positive class when the actual outcome is positive**\n",
    "   \n",
    "    recall/sensitivity/true positive rate = TP/(TP+FN)\n",
    "    \n",
    "   **iii. accuracy - Fraction predicted correctly**\n",
    "   \n",
    "    Accuracy(Fraction predicted correctly) = (TP+TN)/(TP+TN+FP+FN)\n",
    "    \n",
    "   **iv. f1-score - A measure of a test's accuracy that considers both the precision and the recall**\n",
    "    \n",
    "    f1_score = 2*precision*recall/(precision+recall)\n",
    "    \n",
    "   **V. Receiver Operating Characteristic area under curve (ROC AUC)** - The area under a roc curve (a curve of true positive rate against false positive rate (false positive rate = FP/TN + FP)}). Suitable for balanced data\n",
    "   \n",
    "   **vi.  Matthews correlation coefficient** - *a correlation coefficient between the observed and predicted binary classifications; it returns a value between −1 and +1. A coefficient of +1 represents a perfect prediction, 0 no better than random prediction and −1*. Suitable for both balanced and unbalanced data\n",
    "    ![image.png](attachment:image.png)\n"
   ]
  },
  {
   "cell_type": "code",
   "execution_count": 92,
   "metadata": {},
   "outputs": [],
   "source": [
    "#compute_accuracy_metrics(y_pred,y_test, dataset_label)\n",
    "#    parameters: \n",
    "#                - y_pred  - the predicted labels by the function \"logistic_regression_evalution\"\n",
    "#                - y_test - the actual labels associated with the dataset\n",
    "#                - dataset_label:- label (eg what data balancing or feature selection technique)\n",
    "#     returns: \n",
    "# .              - a dictionary of accuracy metrics associated with the dataset_label\n",
    "    \n",
    "def compute_accuracy_metrics(y_pred,y_test, dataset_label):\n",
    "    plot_roc_curve(y_pred,y_test, dataset_label)\n",
    "    return {dataset_label: {\"accuracy\":accuracy_score(y_pred, y_test),\n",
    "                    \"recall\":recall_score(y_pred,y_test),\n",
    "                    \"f_score\":f1_score(y_pred, y_test),\n",
    "                    \"precision\": precision_score(y_pred,y_test),\n",
    "                    \"roc_auc_score\": roc_auc_score(y_pred,y_test),\n",
    "                    \"matthews_corrcoef\": matthews_corrcoef(y_pred,y_test)}}\n",
    "def plot_roc_curve(y_pred,y_test, dataset_label):\n",
    "    fpr, tpr, thresholds = roc_curve(y_test, y_pred)\n",
    "    pyplot.plot([0, 1], [0, 1], linestyle='--')\n",
    "    pyplot.plot(fpr, tpr, marker='.')\n",
    "    pyplot.title(dataset_label+ ' roc_curve')\n",
    "    pyplot.show()\n"
   ]
  },
  {
   "cell_type": "code",
   "execution_count": 93,
   "metadata": {},
   "outputs": [],
   "source": [
    "# pretty prints a confusion matrix for better viewing\n",
    "def pretty_print_confusion_matrix(matrix):\n",
    "    print('     True Negative: {0}'.format(matrix[0][0]))\n",
    "    print('     False Positive: {0}'.format(matrix[0][1]))\n",
    "    print('     False Negative: {0}'.format(matrix[1][0]))\n",
    "    print('     True Positive: {0}'.format(matrix[1][1]))"
   ]
  },
  {
   "cell_type": "markdown",
   "metadata": {},
   "source": [
    "## 5.2 Getting the superior metrics given a list of dictionary metrics\n",
    "**In the below function, we comapre different accuracy metircs provided as a list of dictionaries:**\n",
    "**Get the best scoring data in terms of accuracy, recall, f_score, precision,roc_auc_score,\n",
    "       or matthews_corrcoef**"
   ]
  },
  {
   "cell_type": "code",
   "execution_count": 94,
   "metadata": {},
   "outputs": [],
   "source": [
    "#get_best_accuracy_metrics(dictionary_list,label,metric):\n",
    "# parameters\n",
    "#     - dictionary_list - a list of data or classifier label and accuracy metrics dictionary\n",
    "#     - label - a label to identify what metrics were are comnparing eg classifiers, data balancers,\n",
    "#      or feature selectors\n",
    "#     - metric - the accuracy metric to compare performance by: accuracy, recall, f_score, precision,roc_auc_score,\n",
    "#                 or matthews_corrcoef\n",
    "# returns \n",
    "#      - the best dataSet or classifier label in terms of the f1_score metric\n",
    "def get_best_accuracy_metrics(dictionary_list,label,metric):\n",
    "    #print the accuracy metrics for each data\n",
    "    print('  ' + label + \"Accuracy Metrics:\")\n",
    "    for dictionary in dictionary_list:\n",
    "        print(\"-------\")\n",
    "        print(dictionary)\n",
    "    #determine the best dataset based on each dataset's the f_scores\n",
    "    max_f1_score = 0.0\n",
    "    best_data_set_or_model = \"\"\n",
    "    for dictionary in dictionary_list:\n",
    "        (data_set_type,sub_dict) = list(dictionary.items())[0]\n",
    "        f_score = sub_dict[metric]\n",
    "        if f_score > max_f1_score:\n",
    "            max_f1_score = f_score\n",
    "            best_data_set_or_model = data_set_type\n",
    "    print (\"----------\")       \n",
    "    print('  '+best_data_set_or_model + ' has the best ' + metric +' score: {0}'.format(max_f1_score))\n",
    "    return best_data_set_or_model "
   ]
  },
  {
   "cell_type": "markdown",
   "metadata": {},
   "source": [
    "## 5.3 A classifier helper function to train and use K-fold validation for each classifier"
   ]
  },
  {
   "cell_type": "code",
   "execution_count": 95,
   "metadata": {},
   "outputs": [],
   "source": [
    "#classifier_helper(classifier_list,X_best_feature,y_best_feature)\n",
    "# parameters\n",
    "#     - classifier_list - a list classifiers label, classifier object tuples\n",
    "#     - X_best_feature - best features from the data-balancing and feature selection pipeline\n",
    "#     - y_best_feature - best target column from the data-balancing and feature selection pipeline\n",
    "# returns \n",
    "#      - a dictionary containing the classifier accuracy metrics\n",
    "def classifier_helper(classifier_list,X_best_feature,y_best_feature):\n",
    "    classifier_accuracy_metrics = []\n",
    "    for classifier in classifier_list:\n",
    "        (classifier_name,clf) = classifier\n",
    "        y_pred = cross_val_predict(clf, X_best_feature, y_best_feature, cv=10)\n",
    "        print(classifier_name + \" Number of mislabeled points out of a total %d points : %d\"% \n",
    "                  (y_best_feature.shape[0],(y_best_feature != y_pred).sum()))\n",
    "        print(classifier_name + \"confusion_matrix:\")\n",
    "        print('  '+ classifier_name + \"classifier_accuracy_metrics:\" )\n",
    "        pretty_print_confusion_matrix(confusion_matrix(y_best_feature, y_pred))\n",
    "        classifier_accuracy_metrics.append(compute_accuracy_metrics(y_pred,y_best_feature, classifier_name))\n",
    "    return classifier_accuracy_metrics"
   ]
  }
 ],
 "metadata": {
  "kernelspec": {
   "display_name": "Python 3",
   "language": "python",
   "name": "python3"
  },
  "language_info": {
   "codemirror_mode": {
    "name": "ipython",
    "version": 3
   },
   "file_extension": ".py",
   "mimetype": "text/x-python",
   "name": "python",
   "nbconvert_exporter": "python",
   "pygments_lexer": "ipython3",
   "version": "3.7.1"
  }
 },
 "nbformat": 4,
 "nbformat_minor": 2
}
