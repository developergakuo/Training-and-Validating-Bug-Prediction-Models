{
 "cells": [
  {
   "cell_type": "markdown",
   "metadata": {},
   "source": [
    "# Training and Validating Bug Prediction Models Assignment \n",
    "\n",
    "\n",
    "Below are the required imports"
   ]
  },
  {
   "cell_type": "code",
   "execution_count": 115,
   "metadata": {},
   "outputs": [],
   "source": [
    "# dataset operations (panda dataframes) \n",
    "import pandas as pd\n",
    "# preprocessing (binarizer)\n",
    "from sklearn import preprocessing\n",
    "#data balancing\n",
    "from imblearn.over_sampling import RandomOverSampler\n",
    "from imblearn.under_sampling import RandomUnderSampler\n",
    "from imblearn.over_sampling import SMOTE\n",
    "# accuracy metrics\n",
    "from sklearn.model_selection import cross_val_predict\n",
    "from sklearn.metrics import f1_score, confusion_matrix\n",
    "from sklearn.metrics import accuracy_score\n",
    "from sklearn.metrics import recall_score\n",
    "from sklearn.metrics import precision_score\n",
    "from sklearn.metrics import roc_auc_score\n",
    "from sklearn.metrics import matthews_corrcoef\n",
    "from matplotlib import pyplot\n",
    "from sklearn.metrics import roc_curve\n",
    "# feature selection \n",
    "from sklearn.datasets import load_digits\n",
    "from mlxtend.feature_selection import ExhaustiveFeatureSelector \n",
    "from sklearn.feature_selection import VarianceThreshold\n",
    "from sklearn.feature_selection import SelectPercentile, chi2\n",
    "# single classifiers\n",
    "from sklearn import tree\n",
    "from sklearn.neighbors import KNeighborsClassifier\n",
    "from sklearn.naive_bayes import GaussianNB\n",
    "# ensemble classifiers\n",
    "from sklearn.linear_model import LogisticRegression\n",
    "from sklearn.ensemble import VotingClassifier\n",
    "from sklearn.ensemble import BaggingClassifier\n",
    "from sklearn.ensemble import RandomForestClassifier"
   ]
  },
  {
   "cell_type": "markdown",
   "metadata": {},
   "source": [
    "# 1 Read in CSV data and preprocess"
   ]
  },
  {
   "cell_type": "markdown",
   "metadata": {},
   "source": [
    "## 1.1 Reading in the csv file data with pandas into a dataframe\n"
   ]
  },
  {
   "cell_type": "code",
   "execution_count": 116,
   "metadata": {},
   "outputs": [],
   "source": [
    "data = pd.read_csv( \"./datasets/camel-1.6.csv\")"
   ]
  },
  {
   "cell_type": "markdown",
   "metadata": {},
   "source": [
    "## 1.2 Binarize the bug column\n",
    "Binarize the 'bug' column - '0' for **No-bug** and '1' for **bug**."
   ]
  },
  {
   "cell_type": "code",
   "execution_count": 117,
   "metadata": {},
   "outputs": [],
   "source": [
    "binarizer = preprocessing.Binarizer()\n",
    "data['bug'] = binarizer.transform(data['bug'].values.reshape(-1,1))"
   ]
  },
  {
   "cell_type": "markdown",
   "metadata": {},
   "source": [
    "Separate the features (x) from the target column (y). Also, remove non-numeric fields that do not help in prediction. Note: Some data balancers do not accept non-numeric fields.\n",
    "The data description helps us see the counts of each column, the variance and the mean."
   ]
  },
  {
   "cell_type": "code",
   "execution_count": 118,
   "metadata": {},
   "outputs": [
    {
     "name": "stdout",
     "output_type": "stream",
     "text": [
      "preprocessed data overview:\n",
      "              wmc         dit         noc         cbo         rfc  \\\n",
      "count  965.000000  965.000000  965.000000  965.000000  965.000000   \n",
      "mean     8.573057    1.954404    0.525389   11.102591   21.422798   \n",
      "std     11.204905    1.273735    2.632117   22.526859   25.009324   \n",
      "min      0.000000    0.000000    0.000000    0.000000    0.000000   \n",
      "25%      3.000000    1.000000    0.000000    4.000000    6.000000   \n",
      "50%      5.000000    1.000000    0.000000    7.000000   14.000000   \n",
      "75%     10.000000    3.000000    0.000000   12.000000   27.000000   \n",
      "max    166.000000    6.000000   39.000000  448.000000  322.000000   \n",
      "\n",
      "               lcom          ca          ce         npm       lcom3  \\\n",
      "count    965.000000  965.000000  965.000000  965.000000  965.000000   \n",
      "mean      79.331606    5.271503    6.429016    6.955440    1.104312   \n",
      "std      523.754729   21.691893    7.009507   10.155282    0.721933   \n",
      "min        0.000000    0.000000    0.000000    0.000000    0.000000   \n",
      "25%        0.000000    1.000000    2.000000    2.000000    0.571429   \n",
      "50%        4.000000    2.000000    5.000000    4.000000    0.833333   \n",
      "75%       28.000000    4.000000    8.000000    8.000000    2.000000   \n",
      "max    13617.000000  446.000000   76.000000  157.000000    2.000000   \n",
      "\n",
      "          ...             dam         moa         mfa         cam          ic  \\\n",
      "count     ...      965.000000  965.000000  965.000000  965.000000  965.000000   \n",
      "mean      ...        0.611225    0.632124    0.402331    0.490146    0.389637   \n",
      "std       ...        0.479237    1.224069    0.419473    0.264773    0.607266   \n",
      "min       ...        0.000000    0.000000    0.000000    0.000000    0.000000   \n",
      "25%       ...        0.000000    0.000000    0.000000    0.300000    0.000000   \n",
      "50%       ...        1.000000    0.000000    0.200000    0.440000    0.000000   \n",
      "75%       ...        1.000000    1.000000    0.857143    0.666667    1.000000   \n",
      "max       ...        1.000000    9.000000    1.000000    1.000000    4.000000   \n",
      "\n",
      "              cbm         amc      max_cc      avg_cc         bug  \n",
      "count  965.000000  965.000000  965.000000  965.000000  965.000000  \n",
      "mean     0.913990   11.144160    2.287047    0.958885    0.194819  \n",
      "std      2.585039   11.954696    2.818413    0.657670    0.396266  \n",
      "min      0.000000    0.000000    0.000000    0.000000    0.000000  \n",
      "25%      0.000000    4.500000    1.000000    0.666700    0.000000  \n",
      "50%      0.000000    8.250000    1.000000    0.900000    0.000000  \n",
      "75%      1.000000   13.851852    3.000000    1.060600    0.000000  \n",
      "max     21.000000  158.666667   33.000000    8.500000    1.000000  \n",
      "\n",
      "[8 rows x 21 columns]\n"
     ]
    }
   ],
   "source": [
    "x = data.drop(['name','version','name.1','bug'], axis=1)\n",
    "y = data['bug']\n",
    "data = data.drop(['name','version','name.1'], axis=1)\n",
    "print(\"preprocessed data overview:\")\n",
    "print(data.describe())"
   ]
  },
  {
   "cell_type": "markdown",
   "metadata": {},
   "source": [
    "# 2 Data balancing"
   ]
  },
  {
   "cell_type": "markdown",
   "metadata": {},
   "source": [
    "## SMOTE \n",
    "Use synthetic Minority Oversampling Technique (SMOTE) and indicate the categorical columns\n"
   ]
  },
  {
   "cell_type": "code",
   "execution_count": 119,
   "metadata": {},
   "outputs": [
    {
     "name": "stdout",
     "output_type": "stream",
     "text": [
      "X_smotec.shape: (1554, 20)\n"
     ]
    }
   ],
   "source": [
    "X_balanced, y_balanced = SMOTE().fit_resample(x, y)\n",
    "print('X_smotec.shape: {0}'.format(X_balanced.shape))"
   ]
  },
  {
   "cell_type": "markdown",
   "metadata": {},
   "source": [
    "# 3 Feature selection\n",
    "In this task we aim to select the features that most influence the classification outcome. We aim to remove covariant features to reduce overfitting and the training cost."
   ]
  },
  {
   "cell_type": "markdown",
   "metadata": {},
   "source": [
    "## Univariate feature selection\n",
    "*Univariate feature selection works by selecting the best features based on univariate statistical tests. SelectPercentile (a type of Univariate feature selection) removes all but a user-specified highest scoring percentage of features.* "
   ]
  },
  {
   "cell_type": "code",
   "execution_count": 120,
   "metadata": {},
   "outputs": [
    {
     "name": "stdout",
     "output_type": "stream",
     "text": [
      "     X_best_feature.shape: (1554, 16)\n"
     ]
    }
   ],
   "source": [
    "X_best_feature = SelectPercentile(chi2, percentile=80).fit_transform(X_balanced, y_balanced)\n",
    "print('     X_best_feature.shape: {0}'.format(X_best_feature.shape))"
   ]
  },
  {
   "cell_type": "markdown",
   "metadata": {},
   "source": [
    "# 4 Classification \n"
   ]
  },
  {
   "cell_type": "markdown",
   "metadata": {},
   "source": [
    "## 4.1  single classifiers"
   ]
  },
  {
   "cell_type": "code",
   "execution_count": 121,
   "metadata": {},
   "outputs": [],
   "source": [
    "d_tree = tree.DecisionTreeClassifier()\n",
    "l_regression = LogisticRegression(solver='lbfgs',max_iter=5000)\n",
    "n_bayes = GaussianNB()\n",
    "single_classifier_list = [(\"d_tree\",d_tree),(\"l_regression\",l_regression), (\"n_bayes\",n_bayes)] "
   ]
  },
  {
   "cell_type": "markdown",
   "metadata": {},
   "source": [
    "## 4.2 Ensemble Classifiers "
   ]
  },
  {
   "cell_type": "markdown",
   "metadata": {},
   "source": [
    "**4.2.1 Majority voting classifier**\n",
    "*Each instance is predicted using the m models that return a confidence score ranging between 0 and 1.The scores are combined by an operator (e.g.,Average)*"
   ]
  },
  {
   "cell_type": "code",
   "execution_count": 122,
   "metadata": {},
   "outputs": [],
   "source": [
    "eclf = VotingClassifier(estimators=[(\"d_tree\",d_tree),(\"l_regression\",l_regression), (\"n_bayes\",n_bayes)]\n",
    "                            , voting='hard')\n",
    "majority_voting_clf=[('ensemble_voting',eclf)]\n",
    "\n"
   ]
  },
  {
   "cell_type": "markdown",
   "metadata": {},
   "source": [
    "**4.2.2 Bagging Classifier**\n",
    "*M datasets with the same size as the original one are generated by performing sampling with replacement (Bootstrap) from the training set. Each dataset a model is trained using a weak classifier. The instances are predicted using the m models and the outcomes are combined using majority voting.*"
   ]
  },
  {
   "cell_type": "code",
   "execution_count": 123,
   "metadata": {},
   "outputs": [],
   "source": [
    "bagging = BaggingClassifier(base_estimator=d_tree, n_estimators=10)\n",
    "bagging_clf=[('ensemble_bagging',bagging)]\n"
   ]
  },
  {
   "cell_type": "markdown",
   "metadata": {},
   "source": [
    "**4.2.3 Random Forest**\n",
    "*Random Forest is an ensemble of pruned decision trees. Similarly to Bagging, each decision tree is built through bootstrapping.The instances are predicted using the built decision trees. The predictions are combined using majority voting.*"
   ]
  },
  {
   "cell_type": "code",
   "execution_count": 124,
   "metadata": {},
   "outputs": [],
   "source": [
    "randomForest = RandomForestClassifier(n_estimators=10)\n",
    "randomForest_clf= [('ensemble_randomForest',randomForest)]"
   ]
  },
  {
   "cell_type": "markdown",
   "metadata": {},
   "source": [
    "**Compare the accuracy metrics of the above classifiers**\n",
    "Ensemble classifiers are expected to have better accuracy metrics than single classifiers"
   ]
  },
  {
   "cell_type": "code",
   "execution_count": 125,
   "metadata": {},
   "outputs": [
    {
     "name": "stdout",
     "output_type": "stream",
     "text": [
      "d_tree Number of mislabeled points out of a total 1554 points : 264\n",
      "d_treeconfusion_matrix:\n",
      "  d_treeclassifier_accuracy_metrics:\n",
      "     True Negative: 632\n",
      "     False Positive: 145\n",
      "     False Negative: 119\n",
      "     True Positive: 658\n"
     ]
    },
    {
     "data": {
      "image/png": "[encoded data removed]",
      "text/plain": [
       "<Figure size 432x288 with 1 Axes>"
      ]
     },
     "metadata": {
      "needs_background": "light"
     },
     "output_type": "display_data"
    },
    {
     "name": "stdout",
     "output_type": "stream",
     "text": [
      "l_regression Number of mislabeled points out of a total 1554 points : 517\n",
      "l_regressionconfusion_matrix:\n",
      "  l_regressionclassifier_accuracy_metrics:\n",
      "     True Negative: 528\n",
      "     False Positive: 249\n",
      "     False Negative: 268\n",
      "     True Positive: 509\n"
     ]
    },
    {
     "data": {
      "image/png": "[encoded data removed]",
      "text/plain": [
       "<Figure size 432x288 with 1 Axes>"
      ]
     },
     "metadata": {
      "needs_background": "light"
     },
     "output_type": "display_data"
    },
    {
     "name": "stdout",
     "output_type": "stream",
     "text": [
      "n_bayes Number of mislabeled points out of a total 1554 points : 648\n",
      "n_bayesconfusion_matrix:\n",
      "  n_bayesclassifier_accuracy_metrics:\n",
      "     True Negative: 710\n",
      "     False Positive: 67\n",
      "     False Negative: 581\n",
      "     True Positive: 196\n"
     ]
    },
    {
     "data": {
      "image/png": "[encoded data removed]",
      "text/plain": [
       "<Figure size 432x288 with 1 Axes>"
      ]
     },
     "metadata": {
      "needs_background": "light"
     },
     "output_type": "display_data"
    },
    {
     "name": "stdout",
     "output_type": "stream",
     "text": [
      "ensemble_voting Number of mislabeled points out of a total 1554 points : 416\n",
      "ensemble_votingconfusion_matrix:\n",
      "  ensemble_votingclassifier_accuracy_metrics:\n",
      "     True Negative: 669\n",
      "     False Positive: 108\n",
      "     False Negative: 308\n",
      "     True Positive: 469\n"
     ]
    },
    {
     "data": {
      "image/png": "[encoded data removed]",
      "text/plain": [
       "<Figure size 432x288 with 1 Axes>"
      ]
     },
     "metadata": {
      "needs_background": "light"
     },
     "output_type": "display_data"
    },
    {
     "name": "stdout",
     "output_type": "stream",
     "text": [
      "ensemble_bagging Number of mislabeled points out of a total 1554 points : 220\n",
      "ensemble_baggingconfusion_matrix:\n",
      "  ensemble_baggingclassifier_accuracy_metrics:\n",
      "     True Negative: 693\n",
      "     False Positive: 84\n",
      "     False Negative: 136\n",
      "     True Positive: 641\n"
     ]
    },
    {
     "data": {
      "image/png": "[encoded data removed]",
      "text/plain": [
       "<Figure size 432x288 with 1 Axes>"
      ]
     },
     "metadata": {
      "needs_background": "light"
     },
     "output_type": "display_data"
    },
    {
     "name": "stdout",
     "output_type": "stream",
     "text": [
      "ensemble_randomForest Number of mislabeled points out of a total 1554 points : 231\n",
      "ensemble_randomForestconfusion_matrix:\n",
      "  ensemble_randomForestclassifier_accuracy_metrics:\n",
      "     True Negative: 675\n",
      "     False Positive: 102\n",
      "     False Negative: 129\n",
      "     True Positive: 648\n"
     ]
    },
    {
     "data": {
      "image/png": "[encoded data removed]",
      "text/plain": [
       "<Figure size 432x288 with 1 Axes>"
      ]
     },
     "metadata": {
      "needs_background": "light"
     },
     "output_type": "display_data"
    },
    {
     "name": "stdout",
     "output_type": "stream",
     "text": [
      "  Classifier MetricsAccuracy Metrics:\n",
      "-------\n",
      "{'d_tree': {'accuracy': 0.8301158301158301, 'recall': 0.8194271481942715, 'f_score': 0.8329113924050633, 'precision': 0.8468468468468469, 'roc_auc_score': 0.8304858776923422, 'matthews_corrcoef': 0.6606016041638598}}\n",
      "-------\n",
      "{'l_regression': {'accuracy': 0.6673101673101673, 'recall': 0.6715039577836411, 'f_score': 0.6631921824104234, 'precision': 0.6550836550836551, 'roc_auc_score': 0.667410270349107, 'matthews_corrcoef': 0.33472042269063557}}\n",
      "-------\n",
      "{'n_bayes': {'accuracy': 0.583011583011583, 'recall': 0.7452471482889734, 'f_score': 0.3769230769230769, 'precision': 0.25225225225225223, 'roc_auc_score': 0.6476042093110244, 'matthews_corrcoef': 0.2213852666649808}}\n",
      "-------\n",
      "{'ensemble_voting': {'accuracy': 0.7323037323037324, 'recall': 0.8128249566724437, 'f_score': 0.6927621861152142, 'precision': 0.6036036036036037, 'roc_auc_score': 0.7487870945081768, 'matthews_corrcoef': 0.48080836350151335}}\n",
      "-------\n",
      "{'ensemble_bagging': {'accuracy': 0.8584298584298584, 'recall': 0.8841379310344828, 'f_score': 0.8535286284953395, 'precision': 0.824967824967825, 'roc_auc_score': 0.860042427519654, 'matthews_corrcoef': 0.7184704762886562}}\n",
      "-------\n",
      "{'ensemble_randomForest': {'accuracy': 0.8513513513513513, 'recall': 0.864, 'f_score': 0.8487229862475443, 'precision': 0.833976833976834, 'roc_auc_score': 0.851776119402985, 'matthews_corrcoef': 0.7031273424504928}}\n",
      "----------\n",
      "  ensemble_bagging has the best matthews_corrcoef score: 0.7184704762886562\n"
     ]
    },
    {
     "data": {
      "text/plain": [
       "'ensemble_bagging'"
      ]
     },
     "execution_count": 125,
     "metadata": {},
     "output_type": "execute_result"
    }
   ],
   "source": [
    "y_best_feature = y_balanced\n",
    "classifier_list = single_classifier_list + majority_voting_clf+bagging_clf + randomForest_clf\n",
    "classifier_accuracy_metrics = classifier_helper(classifier_list,X_best_feature,y_best_feature)\n",
    "get_best_accuracy_metrics(classifier_accuracy_metrics,\"Classifier Metrics\",\"matthews_corrcoef\")"
   ]
  },
  {
   "attachments": {
    "image.png": {
     "image/png": "[encoded data removed]"
    }
   },
   "cell_type": "markdown",
   "metadata": {},
   "source": [
    "# 5 Helper Functions \n",
    "\n",
    "## 5.1 compute accuracy metrics\n",
    "\n",
    "\n",
    "   **i. precision - It describes how good a model is at predicting the positive class**\n",
    "   \n",
    "    precision/Positive predictive value = TP/(TP+FP)\n",
    "    \n",
    "   **ii. recall-It describes how good the model is at predicting the positive class when the actual outcome is positive**\n",
    "   \n",
    "    recall/sensitivity/true positive rate = TP/(TP+FN)\n",
    "    \n",
    "   **iii. accuracy - Fraction predicted correctly**\n",
    "   \n",
    "    Accuracy(Fraction predicted correctly) = (TP+TN)/(TP+TN+FP+FN)\n",
    "    \n",
    "   **iv. f1-score - A measure of a test's accuracy that considers both the precision and the recall**\n",
    "    \n",
    "    f1_score = 2*precision*recall/(precision+recall)\n",
    "    \n",
    "   **V. Receiver Operating Characteristic area under curve (ROC AUC)** - The area under a roc curve (a curve of true positive rate against false positive rate (false positive rate = FP/TN + FP)}). Suitable for balanced data\n",
    "   \n",
    "   **vi.  Matthews correlation coefficient** - *a correlation coefficient between the observed and predicted binary classifications; it returns a value between −1 and +1. A coefficient of +1 represents a perfect prediction, 0 no better than random prediction and −1*. Suitable for both balanced and unbalanced data\n",
    "    ![image.png](attachment:image.png)\n"
   ]
  },
  {
   "cell_type": "code",
   "execution_count": 126,
   "metadata": {},
   "outputs": [],
   "source": [
    "#compute_accuracy_metrics(y_pred,y_test, dataset_label)\n",
    "#    parameters: \n",
    "#                - y_pred  - the predicted labels by the function \"logistic_regression_evalution\"\n",
    "#                - y_test - the actual labels associated with the dataset\n",
    "#                - dataset_label:- label (eg what data balancing or feature selection technique)\n",
    "#     returns: \n",
    "# .              - a dictionary of accuracy metrics associated with the dataset_label\n",
    "    \n",
    "def compute_accuracy_metrics(y_pred,y_test, dataset_label):\n",
    "    plot_roc_curve(y_pred,y_test, dataset_label)\n",
    "    return {dataset_label: {\"accuracy\":accuracy_score(y_pred, y_test),\n",
    "                    \"recall\":recall_score(y_pred,y_test),\n",
    "                    \"f_score\":f1_score(y_pred, y_test),\n",
    "                    \"precision\": precision_score(y_pred,y_test),\n",
    "                    \"roc_auc_score\": roc_auc_score(y_pred,y_test),\n",
    "                    \"matthews_corrcoef\": matthews_corrcoef(y_pred,y_test)}}\n",
    "def plot_roc_curve(y_pred,y_test, dataset_label):\n",
    "    fpr, tpr, thresholds = roc_curve(y_test, y_pred)\n",
    "    pyplot.plot([0, 1], [0, 1], linestyle='--')\n",
    "    pyplot.plot(fpr, tpr, marker='.')\n",
    "    pyplot.title(dataset_label+ ' roc_curve')\n",
    "    pyplot.show()"
   ]
  },
  {
   "cell_type": "code",
   "execution_count": 127,
   "metadata": {},
   "outputs": [],
   "source": [
    "# pretty prints a confusion matrix for better viewing\n",
    "def pretty_print_confusion_matrix(matrix):\n",
    "    print('     True Negative: {0}'.format(matrix[0][0]))\n",
    "    print('     False Positive: {0}'.format(matrix[0][1]))\n",
    "    print('     False Negative: {0}'.format(matrix[1][0]))\n",
    "    print('     True Positive: {0}'.format(matrix[1][1]))"
   ]
  },
  {
   "cell_type": "markdown",
   "metadata": {},
   "source": [
    "## 5.2 Getting the superior metrics given a list of dictionary metrics\n",
    "**In the below function, we comapre different accuracy metircs provided as a list of dictionaries:**\n",
    "**Get the best scoring data in terms of accuracy, recall, f_score, precision,roc_auc_score,\n",
    "       or matthews_corrcoef**"
   ]
  },
  {
   "cell_type": "code",
   "execution_count": 128,
   "metadata": {},
   "outputs": [],
   "source": [
    "#get_best_accuracy_metrics(dictionary_list,label,metric):\n",
    "# parameters\n",
    "#     - dictionary_list - a list of data or classifier label and accuracy metrics dictionary\n",
    "#     - label - a label to identify what metrics were are comnparing eg classifiers, data balancers,\n",
    "#      or feature selectors\n",
    "#     - metric - the accuracy metric to compare performance by: accuracy, recall, f_score, precision,roc_auc_score,\n",
    "#                 or matthews_corrcoef\n",
    "# returns \n",
    "#      - the best dataSet or classifier label in terms of the f1_score metric\n",
    "def get_best_accuracy_metrics(dictionary_list,label,metric):\n",
    "    #print the accuracy metrics for each data\n",
    "    print('  ' + label + \"Accuracy Metrics:\")\n",
    "    for dictionary in dictionary_list:\n",
    "        print(\"-------\")\n",
    "        print(dictionary)\n",
    "    #determine the best dataset based on each dataset's the f_scores\n",
    "    max_f1_score = 0.0\n",
    "    best_data_set_or_model = \"\"\n",
    "    for dictionary in dictionary_list:\n",
    "        (data_set_type,sub_dict) = list(dictionary.items())[0]\n",
    "        f_score = sub_dict[metric]\n",
    "        if f_score > max_f1_score:\n",
    "            max_f1_score = f_score\n",
    "            best_data_set_or_model = data_set_type\n",
    "    print (\"----------\")       \n",
    "    print('  '+best_data_set_or_model + ' has the best ' + metric +' score: {0}'.format(max_f1_score))\n",
    "    return best_data_set_or_model      "
   ]
  },
  {
   "cell_type": "markdown",
   "metadata": {},
   "source": [
    "## 5.3 A classifier helper function to train and use K-fold validation for each classifier"
   ]
  },
  {
   "cell_type": "code",
   "execution_count": 129,
   "metadata": {},
   "outputs": [],
   "source": [
    "#classifier_helper(classifier_list,X_best_feature,y_best_feature)\n",
    "# parameters\n",
    "#     - classifier_list - a list classifiers label, classifier object tuples\n",
    "#     - X_best_feature - best features from the data-balancing and feature selection pipeline\n",
    "#     - y_best_feature - best target column from the data-balancing and feature selection pipeline\n",
    "# returns \n",
    "#      - a dictionary containing the classifier accuracy metrics\n",
    "def classifier_helper(classifier_list,X_best_feature,y_best_feature):\n",
    "    classifier_accuracy_metrics = []\n",
    "    for classifier in classifier_list:\n",
    "        (classifier_name,clf) = classifier\n",
    "        y_pred = cross_val_predict(clf, X_best_feature, y_best_feature, cv=10)\n",
    "        print(classifier_name + \" Number of mislabeled points out of a total %d points : %d\"% \n",
    "                  (y_best_feature.shape[0],(y_best_feature != y_pred).sum()))\n",
    "        print(classifier_name + \"confusion_matrix:\")\n",
    "        print('  '+ classifier_name + \"classifier_accuracy_metrics:\" )\n",
    "        pretty_print_confusion_matrix(confusion_matrix(y_best_feature, y_pred))\n",
    "        classifier_accuracy_metrics.append(compute_accuracy_metrics(y_pred,y_best_feature, classifier_name))\n",
    "    return classifier_accuracy_metrics"
   ]
  }
 ],
 "metadata": {
  "kernelspec": {
   "display_name": "Python 3",
   "language": "python",
   "name": "python3"
  },
  "language_info": {
   "codemirror_mode": {
    "name": "ipython",
    "version": 3
   },
   "file_extension": ".py",
   "mimetype": "text/x-python",
   "name": "python",
   "nbconvert_exporter": "python",
   "pygments_lexer": "ipython3",
   "version": "3.7.1"
  }
 },
 "nbformat": 4,
 "nbformat_minor": 2
}
