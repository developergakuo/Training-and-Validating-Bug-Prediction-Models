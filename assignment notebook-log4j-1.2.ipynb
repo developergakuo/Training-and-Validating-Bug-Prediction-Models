{
 "cells": [
  {
   "cell_type": "markdown",
   "metadata": {},
   "source": [
    "# Training and Validating Bug Prediction Models Assignment \n",
    "\n",
    "\n",
    "Below are the required imports"
   ]
  },
  {
   "cell_type": "code",
   "execution_count": 53,
   "metadata": {},
   "outputs": [],
   "source": [
    "# dataset operations (panda dataframes) \n",
    "import pandas as pd\n",
    "# preprocessing (binarizer)\n",
    "from sklearn import preprocessing\n",
    "#data balancing\n",
    "from imblearn.over_sampling import RandomOverSampler\n",
    "from imblearn.under_sampling import RandomUnderSampler\n",
    "from imblearn.over_sampling import SMOTE\n",
    "# accuracy metrics\n",
    "from sklearn.model_selection import cross_val_predict\n",
    "from sklearn.metrics import f1_score, confusion_matrix\n",
    "from sklearn.metrics import accuracy_score\n",
    "from sklearn.metrics import recall_score\n",
    "from sklearn.metrics import precision_score\n",
    "from sklearn.metrics import roc_auc_score\n",
    "from sklearn.metrics import matthews_corrcoef\n",
    "from matplotlib import pyplot\n",
    "from sklearn.metrics import roc_curve\n",
    "# feature selection \n",
    "from sklearn.datasets import load_digits\n",
    "from mlxtend.feature_selection import ExhaustiveFeatureSelector \n",
    "from sklearn.feature_selection import VarianceThreshold\n",
    "from sklearn.feature_selection import SelectPercentile, chi2\n",
    "# single classifiers\n",
    "from sklearn import tree\n",
    "from sklearn.neighbors import KNeighborsClassifier\n",
    "from sklearn.naive_bayes import GaussianNB\n",
    "# ensemble classifiers\n",
    "from sklearn.linear_model import LogisticRegression\n",
    "from sklearn.ensemble import VotingClassifier\n",
    "from sklearn.ensemble import BaggingClassifier\n",
    "from sklearn.ensemble import RandomForestClassifier"
   ]
  },
  {
   "cell_type": "markdown",
   "metadata": {},
   "source": [
    "# 1 Read in CSV data and preprocess"
   ]
  },
  {
   "cell_type": "markdown",
   "metadata": {},
   "source": [
    "## 1.1 Reading in the csv file data with pandas into a dataframe\n"
   ]
  },
  {
   "cell_type": "code",
   "execution_count": 54,
   "metadata": {},
   "outputs": [],
   "source": [
    "data = pd.read_csv(\"./datasets/log4j-1.2.csv\")"
   ]
  },
  {
   "cell_type": "markdown",
   "metadata": {},
   "source": [
    "## 1.2 Binarize the bug column\n",
    "Binarize the 'bug' column - '0' for **No-bug** and '1' for **bug**."
   ]
  },
  {
   "cell_type": "code",
   "execution_count": 55,
   "metadata": {},
   "outputs": [],
   "source": [
    "binarizer = preprocessing.Binarizer()\n",
    "data['bug'] = binarizer.transform(data['bug'].values.reshape(-1,1))"
   ]
  },
  {
   "cell_type": "markdown",
   "metadata": {},
   "source": [
    "Separate the features (x) from the target column (y). Also, remove non-numeric fields that do not help in prediction. Note: Some data balancers do not accept non-numeric fields.\n",
    "The data description helps us see the counts of each column, the variance and the mean."
   ]
  },
  {
   "cell_type": "code",
   "execution_count": 56,
   "metadata": {},
   "outputs": [
    {
     "name": "stdout",
     "output_type": "stream",
     "text": [
      "preprocessed data overview:\n",
      "              wmc         dit         noc         cbo         rfc  \\\n",
      "count  205.000000  205.000000  205.000000  205.000000  205.000000   \n",
      "mean     8.424390    1.819512    0.263415    7.609756   25.224390   \n",
      "std      9.704476    1.350965    1.128455    9.608202   28.500058   \n",
      "min      0.000000    1.000000    0.000000    0.000000    0.000000   \n",
      "25%      3.000000    1.000000    0.000000    3.000000   10.000000   \n",
      "50%      6.000000    1.000000    0.000000    5.000000   18.000000   \n",
      "75%     10.000000    2.000000    0.000000    9.000000   33.000000   \n",
      "max    105.000000    7.000000   12.000000   65.000000  321.000000   \n",
      "\n",
      "              lcom          ca          ce         npm       lcom3  \\\n",
      "count   205.000000  205.000000  205.000000  205.000000  205.000000   \n",
      "mean     53.931707    4.326829    3.785366    5.546341    1.024772   \n",
      "std     348.840875    8.607766    4.778709    5.835494    0.610619   \n",
      "min       0.000000    0.000000    0.000000    0.000000    0.000000   \n",
      "25%       1.000000    0.000000    1.000000    2.000000    0.666667   \n",
      "50%       6.000000    1.000000    3.000000    3.000000    0.833333   \n",
      "75%      21.000000    4.000000    5.000000    8.000000    1.500000   \n",
      "max    4900.000000   58.000000   51.000000   48.000000    2.000000   \n",
      "\n",
      "          ...             dam         moa         mfa         cam          ic  \\\n",
      "count     ...      205.000000  205.000000  205.000000  205.000000  205.000000   \n",
      "mean      ...        0.317335    0.873171    0.326962    0.444284    0.351220   \n",
      "std       ...        0.415972    1.654913    0.410018    0.237742    0.613221   \n",
      "min       ...        0.000000    0.000000    0.000000    0.000000    0.000000   \n",
      "25%       ...        0.000000    0.000000    0.000000    0.277778    0.000000   \n",
      "50%       ...        0.000000    0.000000    0.000000    0.357143    0.000000   \n",
      "75%       ...        0.750000    1.000000    0.764706    0.555556    1.000000   \n",
      "max       ...        1.000000   14.000000    1.000000    1.000000    3.000000   \n",
      "\n",
      "              cbm         amc      max_cc      avg_cc         bug  \n",
      "count  205.000000  205.000000  205.000000  205.000000  205.000000  \n",
      "mean     0.590244   19.759139    3.321951    1.278485    0.921951  \n",
      "std      1.278749   18.116109    3.116017    0.740896    0.268905  \n",
      "min      0.000000    0.000000    0.000000    0.000000    0.000000  \n",
      "25%      0.000000    8.000000    1.000000    0.800000    1.000000  \n",
      "50%      0.000000   15.500000    2.000000    1.000000    1.000000  \n",
      "75%      1.000000   27.714286    5.000000    1.600000    1.000000  \n",
      "max     11.000000  134.000000   22.000000    4.750000    1.000000  \n",
      "\n",
      "[8 rows x 21 columns]\n"
     ]
    }
   ],
   "source": [
    "x = data.drop(['name','version','name.1','bug'], axis=1)\n",
    "y = data['bug']\n",
    "data = data.drop(['name','version','name.1'], axis=1)\n",
    "print(\"preprocessed data overview:\")\n",
    "print(data.describe())"
   ]
  },
  {
   "cell_type": "markdown",
   "metadata": {},
   "source": [
    "# 2 Data balancing"
   ]
  },
  {
   "cell_type": "markdown",
   "metadata": {},
   "source": [
    "## SMOTE \n",
    "Use synthetic Minority Oversampling Technique (SMOTE) and indicate the categorical columns\n"
   ]
  },
  {
   "cell_type": "code",
   "execution_count": 57,
   "metadata": {},
   "outputs": [
    {
     "name": "stdout",
     "output_type": "stream",
     "text": [
      "X_smotec.shape: (378, 20)\n"
     ]
    }
   ],
   "source": [
    "X_balanced, y_balanced = SMOTE().fit_resample(x, y)\n",
    "print('X_smotec.shape: {0}'.format(X_balanced.shape))"
   ]
  },
  {
   "cell_type": "markdown",
   "metadata": {},
   "source": [
    "# 3 Feature selection\n",
    "In this task we aim to select the features that most influence the classification outcome. We aim to remove covariant features to reduce overfitting and the training cost."
   ]
  },
  {
   "cell_type": "markdown",
   "metadata": {},
   "source": [
    "## Univariate feature selection\n",
    "*Univariate feature selection works by selecting the best features based on univariate statistical tests. SelectPercentile (a type of Univariate feature selection) removes all but a user-specified highest scoring percentage of features.* "
   ]
  },
  {
   "cell_type": "code",
   "execution_count": 58,
   "metadata": {},
   "outputs": [
    {
     "name": "stdout",
     "output_type": "stream",
     "text": [
      "     X_best_feature.shape: (378, 16)\n"
     ]
    }
   ],
   "source": [
    "X_best_feature = SelectPercentile(chi2, percentile=80).fit_transform(X_balanced, y_balanced)\n",
    "print('     X_best_feature.shape: {0}'.format(X_best_feature.shape))"
   ]
  },
  {
   "cell_type": "markdown",
   "metadata": {},
   "source": [
    "# 4 Classification \n"
   ]
  },
  {
   "cell_type": "markdown",
   "metadata": {},
   "source": [
    "## 4.1  single classifiers"
   ]
  },
  {
   "cell_type": "code",
   "execution_count": 59,
   "metadata": {},
   "outputs": [],
   "source": [
    "d_tree = tree.DecisionTreeClassifier()\n",
    "l_regression = LogisticRegression(solver='lbfgs',max_iter=5000)\n",
    "n_bayes = GaussianNB()\n",
    "single_classifier_list = [(\"d_tree\",d_tree),(\"l_regression\",l_regression), (\"n_bayes\",n_bayes)] "
   ]
  },
  {
   "cell_type": "markdown",
   "metadata": {},
   "source": [
    "## 4.2 Ensemble Classifiers "
   ]
  },
  {
   "cell_type": "markdown",
   "metadata": {},
   "source": [
    "**4.2.1 Majority voting classifier**\n",
    "\n",
    "*Each instance is predicted using the m models that return a confidence score ranging between 0 and 1.The scores are combined by an operator (e.g.,Average)*"
   ]
  },
  {
   "cell_type": "code",
   "execution_count": 60,
   "metadata": {},
   "outputs": [],
   "source": [
    "eclf = VotingClassifier(estimators=[(\"d_tree\",d_tree),(\"l_regression\",l_regression), (\"n_bayes\",n_bayes)]\n",
    "                            , voting='hard')\n",
    "majority_voting_clf=[('ensemble_voting',eclf)]\n",
    "\n"
   ]
  },
  {
   "cell_type": "markdown",
   "metadata": {},
   "source": [
    "**4.2.2 Bagging Classifier**\n",
    "\n",
    "*M datasets with the same size as the original one are generated by performing sampling with replacement (Bootstrap) from the training set. Each dataset a model is trained using a weak classifier. The instances are predicted using the m models and the outcomes are combined using majority voting.*"
   ]
  },
  {
   "cell_type": "code",
   "execution_count": 61,
   "metadata": {},
   "outputs": [],
   "source": [
    "bagging = BaggingClassifier(base_estimator=d_tree, n_estimators=10)\n",
    "bagging_clf=[('ensemble_bagging',bagging)]\n"
   ]
  },
  {
   "cell_type": "markdown",
   "metadata": {},
   "source": [
    "**4.2.3 Random Forest**\n",
    "\n",
    "*Random Forest is an ensemble of pruned decision trees. Similarly to Bagging, each decision tree is built through bootstrapping.The instances are predicted using the built decision trees. The predictions are combined using majority voting.*"
   ]
  },
  {
   "cell_type": "code",
   "execution_count": 62,
   "metadata": {},
   "outputs": [],
   "source": [
    "randomForest = RandomForestClassifier(n_estimators=10)\n",
    "randomForest_clf= [('ensemble_randomForest',randomForest)]"
   ]
  },
  {
   "cell_type": "markdown",
   "metadata": {},
   "source": [
    "**Compare the accuracy metrics of the above classifiers**\n",
    "Ensemble classifiers are expected to have better accuracy metrics than single classifiers"
   ]
  },
  {
   "cell_type": "code",
   "execution_count": 63,
   "metadata": {},
   "outputs": [
    {
     "name": "stdout",
     "output_type": "stream",
     "text": [
      "d_tree Number of mislabeled points out of a total 378 points : 22\n",
      "d_treeconfusion_matrix:\n",
      "  d_treeclassifier_accuracy_metrics:\n",
      "     True Negative: 183\n",
      "     False Positive: 6\n",
      "     False Negative: 16\n",
      "     True Positive: 173\n"
     ]
    },
    {
     "data": {
      "image/png": "[encoded data removed]",
      "text/plain": [
       "<Figure size 432x288 with 1 Axes>"
      ]
     },
     "metadata": {
      "needs_background": "light"
     },
     "output_type": "display_data"
    },
    {
     "name": "stdout",
     "output_type": "stream",
     "text": [
      "l_regression Number of mislabeled points out of a total 378 points : 62\n",
      "l_regressionconfusion_matrix:\n",
      "  l_regressionclassifier_accuracy_metrics:\n",
      "     True Negative: 171\n",
      "     False Positive: 18\n",
      "     False Negative: 44\n",
      "     True Positive: 145\n"
     ]
    },
    {
     "data": {
      "image/png": "[encoded data removed]",
      "text/plain": [
       "<Figure size 432x288 with 1 Axes>"
      ]
     },
     "metadata": {
      "needs_background": "light"
     },
     "output_type": "display_data"
    },
    {
     "name": "stdout",
     "output_type": "stream",
     "text": [
      "n_bayes Number of mislabeled points out of a total 378 points : 96\n",
      "n_bayesconfusion_matrix:\n",
      "  n_bayesclassifier_accuracy_metrics:\n",
      "     True Negative: 183\n",
      "     False Positive: 6\n",
      "     False Negative: 90\n",
      "     True Positive: 99\n"
     ]
    },
    {
     "data": {
      "image/png": "[encoded data removed]",
      "text/plain": [
       "<Figure size 432x288 with 1 Axes>"
      ]
     },
     "metadata": {
      "needs_background": "light"
     },
     "output_type": "display_data"
    },
    {
     "name": "stdout",
     "output_type": "stream",
     "text": [
      "ensemble_voting Number of mislabeled points out of a total 378 points : 49\n",
      "ensemble_votingconfusion_matrix:\n",
      "  ensemble_votingclassifier_accuracy_metrics:\n",
      "     True Negative: 183\n",
      "     False Positive: 6\n",
      "     False Negative: 43\n",
      "     True Positive: 146\n"
     ]
    },
    {
     "data": {
      "image/png": "[encoded data removed]",
      "text/plain": [
       "<Figure size 432x288 with 1 Axes>"
      ]
     },
     "metadata": {
      "needs_background": "light"
     },
     "output_type": "display_data"
    },
    {
     "name": "stdout",
     "output_type": "stream",
     "text": [
      "ensemble_bagging Number of mislabeled points out of a total 378 points : 20\n",
      "ensemble_baggingconfusion_matrix:\n",
      "  ensemble_baggingclassifier_accuracy_metrics:\n",
      "     True Negative: 185\n",
      "     False Positive: 4\n",
      "     False Negative: 16\n",
      "     True Positive: 173\n"
     ]
    },
    {
     "data": {
      "image/png": "[encoded data removed]",
      "text/plain": [
       "<Figure size 432x288 with 1 Axes>"
      ]
     },
     "metadata": {
      "needs_background": "light"
     },
     "output_type": "display_data"
    },
    {
     "name": "stdout",
     "output_type": "stream",
     "text": [
      "ensemble_randomForest Number of mislabeled points out of a total 378 points : 16\n",
      "ensemble_randomForestconfusion_matrix:\n",
      "  ensemble_randomForestclassifier_accuracy_metrics:\n",
      "     True Negative: 186\n",
      "     False Positive: 3\n",
      "     False Negative: 13\n",
      "     True Positive: 176\n"
     ]
    },
    {
     "data": {
      "image/png": "[encoded data removed]",
      "text/plain": [
       "<Figure size 432x288 with 1 Axes>"
      ]
     },
     "metadata": {
      "needs_background": "light"
     },
     "output_type": "display_data"
    },
    {
     "name": "stdout",
     "output_type": "stream",
     "text": [
      "  Classifier MetricsAccuracy Metrics:\n",
      "-------\n",
      "{'d_tree': {'accuracy': 0.9417989417989417, 'recall': 0.9664804469273743, 'f_score': 0.9402173913043478, 'precision': 0.9153439153439153, 'roc_auc_score': 0.9430392184385615, 'matthews_corrcoef': 0.8848372909899009}}\n",
      "-------\n",
      "{'l_regression': {'accuracy': 0.8359788359788359, 'recall': 0.8895705521472392, 'f_score': 0.8238636363636364, 'precision': 0.7671957671957672, 'roc_auc_score': 0.8424596946782708, 'matthews_corrcoef': 0.6784075753930611}}\n",
      "-------\n",
      "{'n_bayes': {'accuracy': 0.746031746031746, 'recall': 0.9428571428571428, 'f_score': 0.673469387755102, 'precision': 0.5238095238095238, 'roc_auc_score': 0.8065934065934066, 'matthews_corrcoef': 0.5492966817522089}}\n",
      "-------\n",
      "{'ensemble_voting': {'accuracy': 0.8703703703703703, 'recall': 0.9605263157894737, 'f_score': 0.8563049853372434, 'precision': 0.7724867724867724, 'roc_auc_score': 0.885130414531905, 'matthews_corrcoef': 0.7553565893565128}}\n",
      "-------\n",
      "{'ensemble_bagging': {'accuracy': 0.9470899470899471, 'recall': 0.9774011299435028, 'f_score': 0.9453551912568305, 'precision': 0.9153439153439153, 'roc_auc_score': 0.9488995699468759, 'matthews_corrcoef': 0.8959876895945584}}\n",
      "-------\n",
      "{'ensemble_randomForest': {'accuracy': 0.9576719576719577, 'recall': 0.9832402234636871, 'f_score': 0.9565217391304348, 'precision': 0.9312169312169312, 'roc_auc_score': 0.958956795148929, 'matthews_corrcoef': 0.9166278523428315}}\n",
      "----------\n",
      "  ensemble_randomForest has the best matthews_corrcoef score: 0.9166278523428315\n"
     ]
    },
    {
     "data": {
      "text/plain": [
       "'ensemble_randomForest'"
      ]
     },
     "execution_count": 63,
     "metadata": {},
     "output_type": "execute_result"
    }
   ],
   "source": [
    "y_best_feature = y_balanced\n",
    "classifier_list = single_classifier_list + majority_voting_clf+bagging_clf + randomForest_clf\n",
    "classifier_accuracy_metrics = classifier_helper(classifier_list,X_best_feature,y_best_feature)\n",
    "get_best_accuracy_metrics(classifier_accuracy_metrics,\"Classifier Metrics\",\"matthews_corrcoef\")"
   ]
  },
  {
   "attachments": {
    "image.png": {
     "image/png": "[encoded data removed]"
    }
   },
   "cell_type": "markdown",
   "metadata": {},
   "source": [
    "# 5 Helper Functions \n",
    "\n",
    "## 5.1 compute accuracy metrics\n",
    "\n",
    "\n",
    "   **i. precision - It describes how good a model is at predicting the positive class**\n",
    "   \n",
    "    precision/Positive predictive value = TP/(TP+FP)\n",
    "    \n",
    "   **ii. recall-It describes how good the model is at predicting the positive class when the actual outcome is positive**\n",
    "   \n",
    "    recall/sensitivity/true positive rate = TP/(TP+FN)\n",
    "    \n",
    "   **iii. accuracy - Fraction predicted correctly**\n",
    "   \n",
    "    Accuracy(Fraction predicted correctly) = (TP+TN)/(TP+TN+FP+FN)\n",
    "    \n",
    "   **iv. f1-score - A measure of a test's accuracy that considers both the precision and the recall**\n",
    "    \n",
    "    f1_score = 2*precision*recall/(precision+recall)\n",
    "    \n",
    "   **V. Receiver Operating Characteristic area under curve (ROC AUC)** - The area under a roc curve (a curve of true positive rate against false positive rate (false positive rate = FP/TN + FP)}). Suitable for balanced data\n",
    "   \n",
    "   **vi.  Matthews correlation coefficient** - *a correlation coefficient between the observed and predicted binary classifications; it returns a value between −1 and +1. A coefficient of +1 represents a perfect prediction, 0 no better than random prediction and −1*. Suitable for both balanced and unbalanced data\n",
    "    ![image.png](attachment:image.png)\n"
   ]
  },
  {
   "cell_type": "code",
   "execution_count": 64,
   "metadata": {},
   "outputs": [],
   "source": [
    "#compute_accuracy_metrics(y_pred,y_test, dataset_label)\n",
    "#    parameters: \n",
    "#                - y_pred  - the predicted labels by the function \"logistic_regression_evalution\"\n",
    "#                - y_test - the actual labels associated with the dataset\n",
    "#                - dataset_label:- label (eg what data balancing or feature selection technique)\n",
    "#     returns: \n",
    "# .              - a dictionary of accuracy metrics associated with the dataset_label\n",
    "    \n",
    "def compute_accuracy_metrics(y_pred,y_test, dataset_label):\n",
    "    plot_roc_curve(y_pred,y_test, dataset_label)\n",
    "    return {dataset_label: {\"accuracy\":accuracy_score(y_pred, y_test),\n",
    "                    \"recall\":recall_score(y_pred,y_test),\n",
    "                    \"f_score\":f1_score(y_pred, y_test),\n",
    "                    \"precision\": precision_score(y_pred,y_test),\n",
    "                    \"roc_auc_score\": roc_auc_score(y_pred,y_test),\n",
    "                    \"matthews_corrcoef\": matthews_corrcoef(y_pred,y_test)}}\n",
    "def plot_roc_curve(y_pred,y_test, dataset_label):\n",
    "    fpr, tpr, thresholds = roc_curve(y_test, y_pred)\n",
    "    pyplot.plot([0, 1], [0, 1], linestyle='--')\n",
    "    pyplot.plot(fpr, tpr, marker='.')\n",
    "    pyplot.title(dataset_label+ ' roc_curve')\n",
    "    pyplot.show()\n"
   ]
  },
  {
   "cell_type": "code",
   "execution_count": 65,
   "metadata": {},
   "outputs": [],
   "source": [
    "# pretty prints a confusion matrix for better viewing\n",
    "def pretty_print_confusion_matrix(matrix):\n",
    "    print('     True Negative: {0}'.format(matrix[0][0]))\n",
    "    print('     False Positive: {0}'.format(matrix[0][1]))\n",
    "    print('     False Negative: {0}'.format(matrix[1][0]))\n",
    "    print('     True Positive: {0}'.format(matrix[1][1]))"
   ]
  },
  {
   "cell_type": "markdown",
   "metadata": {},
   "source": [
    "## 5.2 Getting the superior metrics given a list of dictionary metrics\n",
    "**In the below function, we comapre different accuracy metircs provided as a list of dictionaries:**\n",
    "**Get the best scoring data in terms of accuracy, recall, f_score, precision,roc_auc_score,\n",
    "       or matthews_corrcoef**"
   ]
  },
  {
   "cell_type": "code",
   "execution_count": 66,
   "metadata": {},
   "outputs": [],
   "source": [
    "#get_best_accuracy_metrics(dictionary_list,label,metric):\n",
    "# parameters\n",
    "#     - dictionary_list - a list of data or classifier label and accuracy metrics dictionary\n",
    "#     - label - a label to identify what metrics were are comnparing eg classifiers, data balancers,\n",
    "#      or feature selectors\n",
    "#     - metric - the accuracy metric to compare performance by: accuracy, recall, f_score, precision,roc_auc_score,\n",
    "#                 or matthews_corrcoef\n",
    "# returns \n",
    "#      - the best dataSet or classifier label in terms of the f1_score metric\n",
    "def get_best_accuracy_metrics(dictionary_list,label,metric):\n",
    "    #print the accuracy metrics for each data\n",
    "    print('  ' + label + \"Accuracy Metrics:\")\n",
    "    for dictionary in dictionary_list:\n",
    "        print(\"-------\")\n",
    "        print(dictionary)\n",
    "    #determine the best dataset based on each dataset's the f_scores\n",
    "    max_f1_score = 0.0\n",
    "    best_data_set_or_model = \"\"\n",
    "    for dictionary in dictionary_list:\n",
    "        (data_set_type,sub_dict) = list(dictionary.items())[0]\n",
    "        f_score = sub_dict[metric]\n",
    "        if f_score > max_f1_score:\n",
    "            max_f1_score = f_score\n",
    "            best_data_set_or_model = data_set_type\n",
    "    print (\"----------\")       \n",
    "    print('  '+best_data_set_or_model + ' has the best ' + metric +' score: {0}'.format(max_f1_score))\n",
    "    return best_data_set_or_model \n",
    "          "
   ]
  },
  {
   "cell_type": "markdown",
   "metadata": {},
   "source": [
    "## 5.3 A classifier helper function to train and use K-fold validation for each classifier"
   ]
  },
  {
   "cell_type": "code",
   "execution_count": 67,
   "metadata": {},
   "outputs": [],
   "source": [
    "#classifier_helper(classifier_list,X_best_feature,y_best_feature)\n",
    "# parameters\n",
    "#     - classifier_list - a list classifiers label, classifier object tuples\n",
    "#     - X_best_feature - best features from the data-balancing and feature selection pipeline\n",
    "#     - y_best_feature - best target column from the data-balancing and feature selection pipeline\n",
    "# returns \n",
    "#      - a dictionary containing the classifier accuracy metrics\n",
    "def classifier_helper(classifier_list,X_best_feature,y_best_feature):\n",
    "    classifier_accuracy_metrics = []\n",
    "    for classifier in classifier_list:\n",
    "        (classifier_name,clf) = classifier\n",
    "        y_pred = cross_val_predict(clf, X_best_feature, y_best_feature, cv=10)\n",
    "        print(classifier_name + \" Number of mislabeled points out of a total %d points : %d\"% \n",
    "                  (y_best_feature.shape[0],(y_best_feature != y_pred).sum()))\n",
    "        print(classifier_name + \"confusion_matrix:\")\n",
    "        print('  '+ classifier_name + \"classifier_accuracy_metrics:\" )\n",
    "        pretty_print_confusion_matrix(confusion_matrix(y_best_feature, y_pred))\n",
    "        classifier_accuracy_metrics.append(compute_accuracy_metrics(y_pred,y_best_feature, classifier_name))\n",
    "    return classifier_accuracy_metrics"
   ]
  }
 ],
 "metadata": {
  "kernelspec": {
   "display_name": "Python 3",
   "language": "python",
   "name": "python3"
  },
  "language_info": {
   "codemirror_mode": {
    "name": "ipython",
    "version": 3
   },
   "file_extension": ".py",
   "mimetype": "text/x-python",
   "name": "python",
   "nbconvert_exporter": "python",
   "pygments_lexer": "ipython3",
   "version": "3.7.1"
  }
 },
 "nbformat": 4,
 "nbformat_minor": 2
}
